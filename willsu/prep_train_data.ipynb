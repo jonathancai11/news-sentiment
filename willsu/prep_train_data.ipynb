{
 "cells": [
  {
   "cell_type": "markdown",
   "metadata": {},
   "source": [
    "## Prepare training data\n",
    "Training data will be a pandas dataframe grouped by dates. Each date will correspond to all the words of all the articles that day. \n",
    "1. TODO: How do we handle weekends? (May cause problems in continuos data)\n",
    "2. TODO: Drop the days that do not have any articles."
   ]
  },
  {
   "cell_type": "code",
   "execution_count": 64,
   "metadata": {},
   "outputs": [],
   "source": [
    "import pickle\n",
    "import pandas as pd\n",
    "import numpy as np\n",
    "import sys\n",
    "sys.path.insert(0, '../')\n",
    "import stock_data"
   ]
  },
  {
   "cell_type": "code",
   "execution_count": 2,
   "metadata": {},
   "outputs": [],
   "source": [
    "with open(\"nyt_1800.pkl\", \"rb\") as fp:   # Unpickling\n",
    "    raw = pickle.load(fp)"
   ]
  },
  {
   "cell_type": "code",
   "execution_count": 3,
   "metadata": {},
   "outputs": [],
   "source": [
    "df = pd.DataFrame(raw, columns = [\"link\", \"time\", \"words\"])"
   ]
  },
  {
   "cell_type": "code",
   "execution_count": 17,
   "metadata": {},
   "outputs": [],
   "source": [
    "#Convert to date time type. Sort by date\n",
    "df['time'] = pd.to_datetime(df.time)\n",
    "df = df.sort_values('time')\n",
    "df = df.set_index('time')"
   ]
  },
  {
   "cell_type": "code",
   "execution_count": 20,
   "metadata": {},
   "outputs": [
    {
     "data": {
      "text/html": [
       "<div>\n",
       "<style scoped>\n",
       "    .dataframe tbody tr th:only-of-type {\n",
       "        vertical-align: middle;\n",
       "    }\n",
       "\n",
       "    .dataframe tbody tr th {\n",
       "        vertical-align: top;\n",
       "    }\n",
       "\n",
       "    .dataframe thead th {\n",
       "        text-align: right;\n",
       "    }\n",
       "</style>\n",
       "<table border=\"1\" class=\"dataframe\">\n",
       "  <thead>\n",
       "    <tr style=\"text-align: right;\">\n",
       "      <th></th>\n",
       "      <th>link</th>\n",
       "      <th>words</th>\n",
       "    </tr>\n",
       "    <tr>\n",
       "      <th>time</th>\n",
       "      <th></th>\n",
       "      <th></th>\n",
       "    </tr>\n",
       "  </thead>\n",
       "  <tbody>\n",
       "    <tr>\n",
       "      <th>2018-09-27 00:31:19</th>\n",
       "      <td>https://www.nytimes.com/2018/09/26/sports/manc...</td>\n",
       "      <td>[MANCHESTER, England, It, was, past, midnight,...</td>\n",
       "    </tr>\n",
       "    <tr>\n",
       "      <th>2018-09-27 04:03:26</th>\n",
       "      <td>https://www.nytimes.com/2018/09/27/briefing/eu...</td>\n",
       "      <td>[Want, to, get, this, briefing, by, email, Her...</td>\n",
       "    </tr>\n",
       "    <tr>\n",
       "      <th>2018-09-27 04:41:51</th>\n",
       "      <td>https://www.nytimes.com/2018/09/27/world/austr...</td>\n",
       "      <td>[The, Australia, Letter, is, a, weekly, newsle...</td>\n",
       "    </tr>\n",
       "    <tr>\n",
       "      <th>2018-09-27 09:00:05</th>\n",
       "      <td>https://www.nytimes.com/2018/09/27/travel/how-...</td>\n",
       "      <td>[When, looking, for, restaurant, recommendatio...</td>\n",
       "    </tr>\n",
       "    <tr>\n",
       "      <th>2018-09-27 09:44:58</th>\n",
       "      <td>https://www.nytimes.com/2018/09/27/briefing/br...</td>\n",
       "      <td>[Want, to, get, this, briefing, by, email, Her...</td>\n",
       "    </tr>\n",
       "  </tbody>\n",
       "</table>\n",
       "</div>"
      ],
      "text/plain": [
       "                                                                  link  \\\n",
       "time                                                                     \n",
       "2018-09-27 00:31:19  https://www.nytimes.com/2018/09/26/sports/manc...   \n",
       "2018-09-27 04:03:26  https://www.nytimes.com/2018/09/27/briefing/eu...   \n",
       "2018-09-27 04:41:51  https://www.nytimes.com/2018/09/27/world/austr...   \n",
       "2018-09-27 09:00:05  https://www.nytimes.com/2018/09/27/travel/how-...   \n",
       "2018-09-27 09:44:58  https://www.nytimes.com/2018/09/27/briefing/br...   \n",
       "\n",
       "                                                                 words  \n",
       "time                                                                    \n",
       "2018-09-27 00:31:19  [MANCHESTER, England, It, was, past, midnight,...  \n",
       "2018-09-27 04:03:26  [Want, to, get, this, briefing, by, email, Her...  \n",
       "2018-09-27 04:41:51  [The, Australia, Letter, is, a, weekly, newsle...  \n",
       "2018-09-27 09:00:05  [When, looking, for, restaurant, recommendatio...  \n",
       "2018-09-27 09:44:58  [Want, to, get, this, briefing, by, email, Her...  "
      ]
     },
     "execution_count": 20,
     "metadata": {},
     "output_type": "execute_result"
    }
   ],
   "source": [
    "df.head()"
   ]
  },
  {
   "cell_type": "code",
   "execution_count": 37,
   "metadata": {},
   "outputs": [],
   "source": [
    "#Convert to String. Handle None type\n",
    "df['liststring'] = [','.join(map(str, l)) if l is not None else \"\" for l in df['words'] ]\n",
    "df.drop(columns= ['words'], inplace = True)"
   ]
  },
  {
   "cell_type": "code",
   "execution_count": 46,
   "metadata": {},
   "outputs": [],
   "source": [
    "#Concat all the strings of a single day together\n",
    "post_df = df.groupby(pd.Grouper(freq='D'))['liststring'].apply(lambda x: x.sum())"
   ]
  },
  {
   "cell_type": "code",
   "execution_count": 57,
   "metadata": {},
   "outputs": [
    {
     "name": "stdout",
     "output_type": "stream",
     "text": [
      "DatetimeIndex(['2018-09-27'], dtype='datetime64[ns]', name='time', freq='D')\n",
      "DatetimeIndex(['2019-05-17'], dtype='datetime64[ns]', name='time', freq='D')\n"
     ]
    }
   ],
   "source": [
    "#Range of dates\n",
    "print(post_df.head(1).index)\n",
    "print(post_df.tail(1).index)"
   ]
  },
  {
   "cell_type": "markdown",
   "metadata": {},
   "source": [
    "## Prepare labels (which is the stock data) "
   ]
  },
  {
   "cell_type": "code",
   "execution_count": 70,
   "metadata": {},
   "outputs": [],
   "source": [
    "#Get the stock data to use as our labels \n",
    "label = stock_data.get_stock_data('GOOG', '94Z49Z19XNL1GGGP')"
   ]
  },
  {
   "cell_type": "code",
   "execution_count": 72,
   "metadata": {},
   "outputs": [
    {
     "name": "stdout",
     "output_type": "stream",
     "text": [
      "DatetimeIndex(['2014-03-27'], dtype='datetime64[ns]', name='date', freq=None)\n",
      "DatetimeIndex(['2019-05-20'], dtype='datetime64[ns]', name='date', freq=None)\n"
     ]
    }
   ],
   "source": [
    "#Range of dates\n",
    "print(label.head(1).index)\n",
    "print(label.tail(1).index)"
   ]
  },
  {
   "cell_type": "code",
   "execution_count": 77,
   "metadata": {},
   "outputs": [],
   "source": [
    "#Truncate the date range to fit the post_df dataframe\n",
    "label = label.truncate(before=pd.Timestamp('2018-09-27'), after=pd.Timestamp('2019-05-17'))"
   ]
  },
  {
   "cell_type": "code",
   "execution_count": 78,
   "metadata": {},
   "outputs": [
    {
     "data": {
      "text/html": [
       "<div>\n",
       "<style scoped>\n",
       "    .dataframe tbody tr th:only-of-type {\n",
       "        vertical-align: middle;\n",
       "    }\n",
       "\n",
       "    .dataframe tbody tr th {\n",
       "        vertical-align: top;\n",
       "    }\n",
       "\n",
       "    .dataframe thead th {\n",
       "        text-align: right;\n",
       "    }\n",
       "</style>\n",
       "<table border=\"1\" class=\"dataframe\">\n",
       "  <thead>\n",
       "    <tr style=\"text-align: right;\">\n",
       "      <th></th>\n",
       "      <th>ds</th>\n",
       "      <th>1. open</th>\n",
       "      <th>2. high</th>\n",
       "      <th>3. low</th>\n",
       "      <th>4. close</th>\n",
       "      <th>5. volume</th>\n",
       "    </tr>\n",
       "    <tr>\n",
       "      <th>date</th>\n",
       "      <th></th>\n",
       "      <th></th>\n",
       "      <th></th>\n",
       "      <th></th>\n",
       "      <th></th>\n",
       "      <th></th>\n",
       "    </tr>\n",
       "  </thead>\n",
       "  <tbody>\n",
       "    <tr>\n",
       "      <th>2018-09-27</th>\n",
       "      <td>2018-09-27</td>\n",
       "      <td>1186.73</td>\n",
       "      <td>1202.10</td>\n",
       "      <td>1183.63</td>\n",
       "      <td>1194.64</td>\n",
       "      <td>1260754</td>\n",
       "    </tr>\n",
       "    <tr>\n",
       "      <th>2018-09-28</th>\n",
       "      <td>2018-09-28</td>\n",
       "      <td>1191.87</td>\n",
       "      <td>1195.41</td>\n",
       "      <td>1184.50</td>\n",
       "      <td>1193.47</td>\n",
       "      <td>1380629</td>\n",
       "    </tr>\n",
       "    <tr>\n",
       "      <th>2018-10-01</th>\n",
       "      <td>2018-10-01</td>\n",
       "      <td>1199.89</td>\n",
       "      <td>1209.90</td>\n",
       "      <td>1190.30</td>\n",
       "      <td>1195.31</td>\n",
       "      <td>1357604</td>\n",
       "    </tr>\n",
       "  </tbody>\n",
       "</table>\n",
       "</div>"
      ],
      "text/plain": [
       "                    ds  1. open  2. high   3. low  4. close  5. volume\n",
       "date                                                                  \n",
       "2018-09-27  2018-09-27  1186.73  1202.10  1183.63   1194.64    1260754\n",
       "2018-09-28  2018-09-28  1191.87  1195.41  1184.50   1193.47    1380629\n",
       "2018-10-01  2018-10-01  1199.89  1209.90  1190.30   1195.31    1357604"
      ]
     },
     "execution_count": 78,
     "metadata": {},
     "output_type": "execute_result"
    }
   ],
   "source": [
    "label.head(3)"
   ]
  },
  {
   "cell_type": "markdown",
   "metadata": {},
   "source": [
    "This data doesn't have weekends. Need to think of some kind of way to handle this."
   ]
  },
  {
   "cell_type": "code",
   "execution_count": null,
   "metadata": {},
   "outputs": [],
   "source": []
  }
 ],
 "metadata": {
  "kernelspec": {
   "display_name": "Python 3",
   "language": "python",
   "name": "python3"
  },
  "language_info": {
   "codemirror_mode": {
    "name": "ipython",
    "version": 3
   },
   "file_extension": ".py",
   "mimetype": "text/x-python",
   "name": "python",
   "nbconvert_exporter": "python",
   "pygments_lexer": "ipython3",
   "version": "3.6.5"
  }
 },
 "nbformat": 4,
 "nbformat_minor": 2
}
