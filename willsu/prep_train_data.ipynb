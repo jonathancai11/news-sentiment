{
 "cells": [
  {
   "cell_type": "markdown",
   "metadata": {},
   "source": [
    "## Prepare training data\n",
    "Training data will be a pandas dataframe grouped by dates. Each date will correspond to all the words of all the articles that day. \n",
    "1. TODO: How do we handle weekends? (May cause problems in continuos data)\n",
    "2. TODO: Drop the days that do not have any articles."
   ]
  },
  {
   "cell_type": "code",
   "execution_count": 1,
   "metadata": {},
   "outputs": [],
   "source": [
    "import pickle\n",
    "import pandas as pd\n",
    "import numpy as np\n",
    "import sys\n",
    "sys.path.insert(0, '../')\n",
    "import stock_data"
   ]
  },
  {
   "cell_type": "code",
   "execution_count": 2,
   "metadata": {},
   "outputs": [],
   "source": [
    "import datetime"
   ]
  },
  {
   "cell_type": "code",
   "execution_count": 3,
   "metadata": {},
   "outputs": [],
   "source": [
    "with open(\"nyt_1800.pkl\", \"rb\") as fp:   # Unpickling\n",
    "    raw = pickle.load(fp)"
   ]
  },
  {
   "cell_type": "code",
   "execution_count": 4,
   "metadata": {},
   "outputs": [],
   "source": [
    "df = pd.DataFrame(raw, columns = [\"link\", \"time\", \"words\"])"
   ]
  },
  {
   "cell_type": "code",
   "execution_count": 5,
   "metadata": {},
   "outputs": [],
   "source": [
    "#Convert to date time type. Sort by date\n",
    "df['time'] = pd.to_datetime(df.time)\n",
    "df = df.sort_values('time')\n",
    "df = df.set_index('time')"
   ]
  },
  {
   "cell_type": "code",
   "execution_count": 6,
   "metadata": {},
   "outputs": [
    {
     "data": {
      "text/html": [
       "<div>\n",
       "<style scoped>\n",
       "    .dataframe tbody tr th:only-of-type {\n",
       "        vertical-align: middle;\n",
       "    }\n",
       "\n",
       "    .dataframe tbody tr th {\n",
       "        vertical-align: top;\n",
       "    }\n",
       "\n",
       "    .dataframe thead th {\n",
       "        text-align: right;\n",
       "    }\n",
       "</style>\n",
       "<table border=\"1\" class=\"dataframe\">\n",
       "  <thead>\n",
       "    <tr style=\"text-align: right;\">\n",
       "      <th></th>\n",
       "      <th>link</th>\n",
       "      <th>words</th>\n",
       "    </tr>\n",
       "    <tr>\n",
       "      <th>time</th>\n",
       "      <th></th>\n",
       "      <th></th>\n",
       "    </tr>\n",
       "  </thead>\n",
       "  <tbody>\n",
       "    <tr>\n",
       "      <th>2018-09-27 00:31:19</th>\n",
       "      <td>https://www.nytimes.com/2018/09/26/sports/manc...</td>\n",
       "      <td>[MANCHESTER, England, It, was, past, midnight,...</td>\n",
       "    </tr>\n",
       "    <tr>\n",
       "      <th>2018-09-27 04:03:26</th>\n",
       "      <td>https://www.nytimes.com/2018/09/27/briefing/eu...</td>\n",
       "      <td>[Want, to, get, this, briefing, by, email, Her...</td>\n",
       "    </tr>\n",
       "    <tr>\n",
       "      <th>2018-09-27 04:41:51</th>\n",
       "      <td>https://www.nytimes.com/2018/09/27/world/austr...</td>\n",
       "      <td>[The, Australia, Letter, is, a, weekly, newsle...</td>\n",
       "    </tr>\n",
       "    <tr>\n",
       "      <th>2018-09-27 09:00:05</th>\n",
       "      <td>https://www.nytimes.com/2018/09/27/travel/how-...</td>\n",
       "      <td>[When, looking, for, restaurant, recommendatio...</td>\n",
       "    </tr>\n",
       "    <tr>\n",
       "      <th>2018-09-27 09:44:58</th>\n",
       "      <td>https://www.nytimes.com/2018/09/27/briefing/br...</td>\n",
       "      <td>[Want, to, get, this, briefing, by, email, Her...</td>\n",
       "    </tr>\n",
       "  </tbody>\n",
       "</table>\n",
       "</div>"
      ],
      "text/plain": [
       "                                                                  link  \\\n",
       "time                                                                     \n",
       "2018-09-27 00:31:19  https://www.nytimes.com/2018/09/26/sports/manc...   \n",
       "2018-09-27 04:03:26  https://www.nytimes.com/2018/09/27/briefing/eu...   \n",
       "2018-09-27 04:41:51  https://www.nytimes.com/2018/09/27/world/austr...   \n",
       "2018-09-27 09:00:05  https://www.nytimes.com/2018/09/27/travel/how-...   \n",
       "2018-09-27 09:44:58  https://www.nytimes.com/2018/09/27/briefing/br...   \n",
       "\n",
       "                                                                 words  \n",
       "time                                                                    \n",
       "2018-09-27 00:31:19  [MANCHESTER, England, It, was, past, midnight,...  \n",
       "2018-09-27 04:03:26  [Want, to, get, this, briefing, by, email, Her...  \n",
       "2018-09-27 04:41:51  [The, Australia, Letter, is, a, weekly, newsle...  \n",
       "2018-09-27 09:00:05  [When, looking, for, restaurant, recommendatio...  \n",
       "2018-09-27 09:44:58  [Want, to, get, this, briefing, by, email, Her...  "
      ]
     },
     "execution_count": 6,
     "metadata": {},
     "output_type": "execute_result"
    }
   ],
   "source": [
    "df.head()"
   ]
  },
  {
   "cell_type": "code",
   "execution_count": 7,
   "metadata": {},
   "outputs": [],
   "source": [
    "#Convert to String. Handle None type\n",
    "df['liststring'] = [','.join(map(str, l)) if l is not None else \"\" for l in df['words'] ]\n",
    "df.drop(columns= ['words'], inplace = True)"
   ]
  },
  {
   "cell_type": "code",
   "execution_count": 8,
   "metadata": {},
   "outputs": [],
   "source": [
    "#Concat all the strings of a single day together\n",
    "post_df = df.groupby(pd.Grouper(freq='D'))['liststring'].apply(lambda x: x.sum())"
   ]
  },
  {
   "cell_type": "code",
   "execution_count": 9,
   "metadata": {},
   "outputs": [
    {
     "name": "stdout",
     "output_type": "stream",
     "text": [
      "DatetimeIndex(['2018-09-27'], dtype='datetime64[ns]', name='time', freq='D')\n",
      "DatetimeIndex(['2019-05-17'], dtype='datetime64[ns]', name='time', freq='D')\n"
     ]
    }
   ],
   "source": [
    "#Range of dates\n",
    "print(post_df.head(1).index)\n",
    "print(post_df.tail(1).index)"
   ]
  },
  {
   "cell_type": "markdown",
   "metadata": {},
   "source": [
    "## Prepare labels (which is the stock data) "
   ]
  },
  {
   "cell_type": "code",
   "execution_count": 64,
   "metadata": {},
   "outputs": [],
   "source": [
    "#Get the stock data to use as our labels\n",
    "label = stock_data.get_stock_data('GOOG', '94Z49Z19XNL1GGGP')"
   ]
  },
  {
   "cell_type": "code",
   "execution_count": 65,
   "metadata": {},
   "outputs": [
    {
     "name": "stdout",
     "output_type": "stream",
     "text": [
      "DatetimeIndex(['2014-03-27'], dtype='datetime64[ns]', name='date', freq=None)\n",
      "DatetimeIndex(['2019-05-21'], dtype='datetime64[ns]', name='date', freq=None)\n"
     ]
    }
   ],
   "source": [
    "#Range of dates\n",
    "print(label.head(1).index)\n",
    "print(label.tail(1).index)"
   ]
  },
  {
   "cell_type": "code",
   "execution_count": 66,
   "metadata": {},
   "outputs": [],
   "source": [
    "#Truncate the date range to fit the post_df dataframe\n",
    "label = label.truncate(before=pd.Timestamp('2018-09-27'), after=pd.Timestamp('2019-05-17'))"
   ]
  },
  {
   "cell_type": "code",
   "execution_count": 67,
   "metadata": {},
   "outputs": [
    {
     "data": {
      "text/html": [
       "<div>\n",
       "<style scoped>\n",
       "    .dataframe tbody tr th:only-of-type {\n",
       "        vertical-align: middle;\n",
       "    }\n",
       "\n",
       "    .dataframe tbody tr th {\n",
       "        vertical-align: top;\n",
       "    }\n",
       "\n",
       "    .dataframe thead th {\n",
       "        text-align: right;\n",
       "    }\n",
       "</style>\n",
       "<table border=\"1\" class=\"dataframe\">\n",
       "  <thead>\n",
       "    <tr style=\"text-align: right;\">\n",
       "      <th></th>\n",
       "      <th>open</th>\n",
       "      <th>high</th>\n",
       "      <th>low</th>\n",
       "      <th>close</th>\n",
       "      <th>volume</th>\n",
       "    </tr>\n",
       "    <tr>\n",
       "      <th>date</th>\n",
       "      <th></th>\n",
       "      <th></th>\n",
       "      <th></th>\n",
       "      <th></th>\n",
       "      <th></th>\n",
       "    </tr>\n",
       "  </thead>\n",
       "  <tbody>\n",
       "    <tr>\n",
       "      <th>2018-09-27</th>\n",
       "      <td>1186.7300</td>\n",
       "      <td>1202.1000</td>\n",
       "      <td>1183.6300</td>\n",
       "      <td>1194.6400</td>\n",
       "      <td>1260754</td>\n",
       "    </tr>\n",
       "    <tr>\n",
       "      <th>2018-09-28</th>\n",
       "      <td>1191.8700</td>\n",
       "      <td>1195.4100</td>\n",
       "      <td>1184.5000</td>\n",
       "      <td>1193.4700</td>\n",
       "      <td>1380629</td>\n",
       "    </tr>\n",
       "    <tr>\n",
       "      <th>2018-10-01</th>\n",
       "      <td>1199.8900</td>\n",
       "      <td>1209.9000</td>\n",
       "      <td>1190.3000</td>\n",
       "      <td>1195.3100</td>\n",
       "      <td>1357604</td>\n",
       "    </tr>\n",
       "  </tbody>\n",
       "</table>\n",
       "</div>"
      ],
      "text/plain": [
       "                 open       high        low      close   volume\n",
       "date                                                           \n",
       "2018-09-27  1186.7300  1202.1000  1183.6300  1194.6400  1260754\n",
       "2018-09-28  1191.8700  1195.4100  1184.5000  1193.4700  1380629\n",
       "2018-10-01  1199.8900  1209.9000  1190.3000  1195.3100  1357604"
      ]
     },
     "execution_count": 67,
     "metadata": {},
     "output_type": "execute_result"
    }
   ],
   "source": [
    "label.drop(columns=['ds'], inplace=True)\n",
    "label.head(3)"
   ]
  },
  {
   "cell_type": "markdown",
   "metadata": {},
   "source": [
    "This data doesn't have weekends. Need to think of some kind of way to handle this."
   ]
  },
  {
   "cell_type": "markdown",
   "metadata": {},
   "source": [
    "# Applying labels to article DataFrame"
   ]
  },
  {
   "cell_type": "code",
   "execution_count": 68,
   "metadata": {},
   "outputs": [
    {
     "data": {
      "text/html": [
       "<div>\n",
       "<style scoped>\n",
       "    .dataframe tbody tr th:only-of-type {\n",
       "        vertical-align: middle;\n",
       "    }\n",
       "\n",
       "    .dataframe tbody tr th {\n",
       "        vertical-align: top;\n",
       "    }\n",
       "\n",
       "    .dataframe thead th {\n",
       "        text-align: right;\n",
       "    }\n",
       "</style>\n",
       "<table border=\"1\" class=\"dataframe\">\n",
       "  <thead>\n",
       "    <tr style=\"text-align: right;\">\n",
       "      <th></th>\n",
       "      <th>words</th>\n",
       "      <th>dayofweek</th>\n",
       "    </tr>\n",
       "    <tr>\n",
       "      <th>time</th>\n",
       "      <th></th>\n",
       "      <th></th>\n",
       "    </tr>\n",
       "  </thead>\n",
       "  <tbody>\n",
       "    <tr>\n",
       "      <th>2018-09-27</th>\n",
       "      <td>MANCHESTER,England,It,was,past,midnight,when,J...</td>\n",
       "      <td>3</td>\n",
       "    </tr>\n",
       "    <tr>\n",
       "      <th>2018-09-28</th>\n",
       "      <td>You,may,have,noticed,a,bold,advertisement,in,T...</td>\n",
       "      <td>4</td>\n",
       "    </tr>\n",
       "    <tr>\n",
       "      <th>2018-09-29</th>\n",
       "      <td>LONDON,The,British,telephone,box,is,not,dead,y...</td>\n",
       "      <td>5</td>\n",
       "    </tr>\n",
       "    <tr>\n",
       "      <th>2018-09-30</th>\n",
       "      <td>Stephanie,Audrey,Friedman,and,Stanley,Gartshei...</td>\n",
       "      <td>6</td>\n",
       "    </tr>\n",
       "    <tr>\n",
       "      <th>2018-10-01</th>\n",
       "      <td>A,new,sitcom,airs,on,CBS,while,a,new,documenta...</td>\n",
       "      <td>0</td>\n",
       "    </tr>\n",
       "  </tbody>\n",
       "</table>\n",
       "</div>"
      ],
      "text/plain": [
       "                                                        words  dayofweek\n",
       "time                                                                    \n",
       "2018-09-27  MANCHESTER,England,It,was,past,midnight,when,J...          3\n",
       "2018-09-28  You,may,have,noticed,a,bold,advertisement,in,T...          4\n",
       "2018-09-29  LONDON,The,British,telephone,box,is,not,dead,y...          5\n",
       "2018-09-30  Stephanie,Audrey,Friedman,and,Stanley,Gartshei...          6\n",
       "2018-10-01  A,new,sitcom,airs,on,CBS,while,a,new,documenta...          0"
      ]
     },
     "execution_count": 68,
     "metadata": {},
     "output_type": "execute_result"
    }
   ],
   "source": [
    "# Get days of the week\n",
    "sdf = pd.DataFrame({'words': post_df})\n",
    "sdf['dayofweek'] = sdf.index.dayofweek\n",
    "sdf.head()"
   ]
  },
  {
   "cell_type": "code",
   "execution_count": 69,
   "metadata": {},
   "outputs": [
    {
     "data": {
      "text/html": [
       "<div>\n",
       "<style scoped>\n",
       "    .dataframe tbody tr th:only-of-type {\n",
       "        vertical-align: middle;\n",
       "    }\n",
       "\n",
       "    .dataframe tbody tr th {\n",
       "        vertical-align: top;\n",
       "    }\n",
       "\n",
       "    .dataframe thead th {\n",
       "        text-align: right;\n",
       "    }\n",
       "</style>\n",
       "<table border=\"1\" class=\"dataframe\">\n",
       "  <thead>\n",
       "    <tr style=\"text-align: right;\">\n",
       "      <th></th>\n",
       "      <th>open</th>\n",
       "      <th>last</th>\n",
       "    </tr>\n",
       "    <tr>\n",
       "      <th>date</th>\n",
       "      <th></th>\n",
       "      <th></th>\n",
       "    </tr>\n",
       "  </thead>\n",
       "  <tbody>\n",
       "    <tr>\n",
       "      <th>2018-09-27</th>\n",
       "      <td>1186.7300</td>\n",
       "      <td>2018-09-26</td>\n",
       "    </tr>\n",
       "    <tr>\n",
       "      <th>2018-09-28</th>\n",
       "      <td>1191.8700</td>\n",
       "      <td>2018-09-27</td>\n",
       "    </tr>\n",
       "    <tr>\n",
       "      <th>2018-10-01</th>\n",
       "      <td>1199.8900</td>\n",
       "      <td>2018-09-30</td>\n",
       "    </tr>\n",
       "    <tr>\n",
       "      <th>2018-10-02</th>\n",
       "      <td>1190.9600</td>\n",
       "      <td>2018-10-01</td>\n",
       "    </tr>\n",
       "    <tr>\n",
       "      <th>2018-10-03</th>\n",
       "      <td>1205.0000</td>\n",
       "      <td>2018-10-02</td>\n",
       "    </tr>\n",
       "  </tbody>\n",
       "</table>\n",
       "</div>"
      ],
      "text/plain": [
       "                 open       last\n",
       "date                            \n",
       "2018-09-27  1186.7300 2018-09-26\n",
       "2018-09-28  1191.8700 2018-09-27\n",
       "2018-10-01  1199.8900 2018-09-30\n",
       "2018-10-02  1190.9600 2018-10-01\n",
       "2018-10-03  1205.0000 2018-10-02"
      ]
     },
     "execution_count": 69,
     "metadata": {},
     "output_type": "execute_result"
    }
   ],
   "source": [
    "# Shift dates back by 1 day, stored into column \"last\"\n",
    "label['last'] = label.index - pd.Timedelta(days=1)\n",
    "label.drop(columns=['high', 'low', 'close', 'volume'], inplace=True)\n",
    "label.head()"
   ]
  },
  {
   "cell_type": "code",
   "execution_count": 83,
   "metadata": {},
   "outputs": [
    {
     "data": {
      "text/plain": [
       "(122, 1)"
      ]
     },
     "metadata": {},
     "output_type": "display_data"
    },
    {
     "data": {
      "text/html": [
       "<div>\n",
       "<style scoped>\n",
       "    .dataframe tbody tr th:only-of-type {\n",
       "        vertical-align: middle;\n",
       "    }\n",
       "\n",
       "    .dataframe tbody tr th {\n",
       "        vertical-align: top;\n",
       "    }\n",
       "\n",
       "    .dataframe thead th {\n",
       "        text-align: right;\n",
       "    }\n",
       "</style>\n",
       "<table border=\"1\" class=\"dataframe\">\n",
       "  <thead>\n",
       "    <tr style=\"text-align: right;\">\n",
       "      <th></th>\n",
       "      <th>delta</th>\n",
       "    </tr>\n",
       "    <tr>\n",
       "      <th>last_left</th>\n",
       "      <th></th>\n",
       "    </tr>\n",
       "  </thead>\n",
       "  <tbody>\n",
       "    <tr>\n",
       "      <th>2018-09-27</th>\n",
       "      <td>5.14</td>\n",
       "    </tr>\n",
       "    <tr>\n",
       "      <th>2018-10-01</th>\n",
       "      <td>-8.93</td>\n",
       "    </tr>\n",
       "    <tr>\n",
       "      <th>2018-10-02</th>\n",
       "      <td>14.04</td>\n",
       "    </tr>\n",
       "    <tr>\n",
       "      <th>2018-10-03</th>\n",
       "      <td>-9.67</td>\n",
       "    </tr>\n",
       "    <tr>\n",
       "      <th>2018-10-04</th>\n",
       "      <td>-27.83</td>\n",
       "    </tr>\n",
       "  </tbody>\n",
       "</table>\n",
       "</div>"
      ],
      "text/plain": [
       "            delta\n",
       "last_left        \n",
       "2018-09-27   5.14\n",
       "2018-10-01  -8.93\n",
       "2018-10-02  14.04\n",
       "2018-10-03  -9.67\n",
       "2018-10-04 -27.83"
      ]
     },
     "execution_count": 83,
     "metadata": {},
     "output_type": "execute_result"
    }
   ],
   "source": [
    "# Subtract the open prices between the merged \"open\" columns\n",
    "deltas = label.merge(label, left_on='last', right_on='date', suffixes=('_left', '_right'))\n",
    "deltas.rename({'open_left':'date'}, inplace=True)\n",
    "deltas.set_index('last_left', drop=True, inplace=True)\n",
    "deltas['delta'] = pd.to_numeric(deltas.open_left) - pd.to_numeric(deltas.open_right)\n",
    "deltas.drop(columns=['open_left', 'open_right', 'last_right'], inplace=True)\n",
    "display(deltas.shape)\n",
    "deltas.head()"
   ]
  },
  {
   "cell_type": "code",
   "execution_count": 86,
   "metadata": {},
   "outputs": [
    {
     "data": {
      "text/html": [
       "<div>\n",
       "<style scoped>\n",
       "    .dataframe tbody tr th:only-of-type {\n",
       "        vertical-align: middle;\n",
       "    }\n",
       "\n",
       "    .dataframe tbody tr th {\n",
       "        vertical-align: top;\n",
       "    }\n",
       "\n",
       "    .dataframe thead th {\n",
       "        text-align: right;\n",
       "    }\n",
       "</style>\n",
       "<table border=\"1\" class=\"dataframe\">\n",
       "  <thead>\n",
       "    <tr style=\"text-align: right;\">\n",
       "      <th></th>\n",
       "      <th>words</th>\n",
       "      <th>dayofweek</th>\n",
       "      <th>open</th>\n",
       "    </tr>\n",
       "    <tr>\n",
       "      <th>time</th>\n",
       "      <th></th>\n",
       "      <th></th>\n",
       "      <th></th>\n",
       "    </tr>\n",
       "  </thead>\n",
       "  <tbody>\n",
       "    <tr>\n",
       "      <th>2018-09-27</th>\n",
       "      <td>MANCHESTER,England,It,was,past,midnight,when,J...</td>\n",
       "      <td>3</td>\n",
       "      <td>1186.7300</td>\n",
       "    </tr>\n",
       "    <tr>\n",
       "      <th>2018-09-28</th>\n",
       "      <td>You,may,have,noticed,a,bold,advertisement,in,T...</td>\n",
       "      <td>4</td>\n",
       "      <td>1191.8700</td>\n",
       "    </tr>\n",
       "    <tr>\n",
       "      <th>2018-09-29</th>\n",
       "      <td>LONDON,The,British,telephone,box,is,not,dead,y...</td>\n",
       "      <td>5</td>\n",
       "      <td>NaN</td>\n",
       "    </tr>\n",
       "    <tr>\n",
       "      <th>2018-09-30</th>\n",
       "      <td>Stephanie,Audrey,Friedman,and,Stanley,Gartshei...</td>\n",
       "      <td>6</td>\n",
       "      <td>NaN</td>\n",
       "    </tr>\n",
       "    <tr>\n",
       "      <th>2018-10-01</th>\n",
       "      <td>A,new,sitcom,airs,on,CBS,while,a,new,documenta...</td>\n",
       "      <td>0</td>\n",
       "      <td>1199.8900</td>\n",
       "    </tr>\n",
       "  </tbody>\n",
       "</table>\n",
       "</div>"
      ],
      "text/plain": [
       "                                                        words  dayofweek  \\\n",
       "time                                                                       \n",
       "2018-09-27  MANCHESTER,England,It,was,past,midnight,when,J...          3   \n",
       "2018-09-28  You,may,have,noticed,a,bold,advertisement,in,T...          4   \n",
       "2018-09-29  LONDON,The,British,telephone,box,is,not,dead,y...          5   \n",
       "2018-09-30  Stephanie,Audrey,Friedman,and,Stanley,Gartshei...          6   \n",
       "2018-10-01  A,new,sitcom,airs,on,CBS,while,a,new,documenta...          0   \n",
       "\n",
       "                 open  \n",
       "time                   \n",
       "2018-09-27  1186.7300  \n",
       "2018-09-28  1191.8700  \n",
       "2018-09-29        NaN  \n",
       "2018-09-30        NaN  \n",
       "2018-10-01  1199.8900  "
      ]
     },
     "metadata": {},
     "output_type": "display_data"
    },
    {
     "data": {
      "text/plain": [
       "(233, 3)"
      ]
     },
     "metadata": {},
     "output_type": "display_data"
    },
    {
     "data": {
      "text/plain": [
       "words        object\n",
       "dayofweek     int64\n",
       "open         object\n",
       "dtype: object"
      ]
     },
     "execution_count": 86,
     "metadata": {},
     "output_type": "execute_result"
    }
   ],
   "source": [
    "# Join the delta data with the original df of article data\n",
    "proc_df = sdf.merge(label.drop(columns=['last']), how='left', left_index=True, right_index=True)\n",
    "display(proc_df.head())\n",
    "display(proc_df.shape)\n",
    "proc_df.dtypes"
   ]
  },
  {
   "cell_type": "code",
   "execution_count": null,
   "metadata": {},
   "outputs": [],
   "source": [
    "proc_df"
   ]
  }
 ],
 "metadata": {
  "kernelspec": {
   "display_name": "Python 3",
   "language": "python",
   "name": "python3"
  },
  "language_info": {
   "codemirror_mode": {
    "name": "ipython",
    "version": 3
   },
   "file_extension": ".py",
   "mimetype": "text/x-python",
   "name": "python",
   "nbconvert_exporter": "python",
   "pygments_lexer": "ipython3",
   "version": "3.7.0"
  }
 },
 "nbformat": 4,
 "nbformat_minor": 2
}
