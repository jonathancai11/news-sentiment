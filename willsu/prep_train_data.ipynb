{
 "cells": [
  {
   "cell_type": "markdown",
   "metadata": {},
   "source": [
    "## Prepare training data\n",
    "Training data will be a pandas dataframe grouped by dates. Each date will correspond to all the words of all the articles that day. \n",
    "1. TODO: How do we handle weekends? (May cause problems in continuos data)\n",
    "2. TODO: Drop the days that do not have any articles."
   ]
  },
  {
   "cell_type": "code",
   "execution_count": 1,
   "metadata": {},
   "outputs": [],
   "source": [
    "import pickle\n",
    "import pandas as pd\n",
    "import numpy as np\n",
    "import sys\n",
    "sys.path.insert(0, '../')\n",
    "import datetime"
   ]
  },
  {
   "cell_type": "code",
   "execution_count": 2,
   "metadata": {},
   "outputs": [],
   "source": [
    "%matplotlib inline"
   ]
  },
  {
   "cell_type": "code",
   "execution_count": 75,
   "metadata": {},
   "outputs": [],
   "source": [
    "from nltk.sentiment.vader import SentimentIntensityAnalyzer\n",
    "import stock_data\n",
    "import validation\n",
    "from sklearn import preprocessing"
   ]
  },
  {
   "cell_type": "code",
   "execution_count": 4,
   "metadata": {},
   "outputs": [],
   "source": [
    "with open(\"nyt_1800.pkl\", \"rb\") as fp:   # Unpickling\n",
    "    raw = pickle.load(fp)"
   ]
  },
  {
   "cell_type": "code",
   "execution_count": 5,
   "metadata": {},
   "outputs": [],
   "source": [
    "df = pd.DataFrame(raw, columns = [\"link\", \"time\", \"words\"])"
   ]
  },
  {
   "cell_type": "code",
   "execution_count": 6,
   "metadata": {},
   "outputs": [],
   "source": [
    "#Convert to date time type. Sort by date\n",
    "df['time'] = pd.to_datetime(df.time)\n",
    "df = df.sort_values('time')\n",
    "df = df.set_index('time')"
   ]
  },
  {
   "cell_type": "code",
   "execution_count": 7,
   "metadata": {},
   "outputs": [
    {
     "data": {
      "text/html": [
       "<div>\n",
       "<style scoped>\n",
       "    .dataframe tbody tr th:only-of-type {\n",
       "        vertical-align: middle;\n",
       "    }\n",
       "\n",
       "    .dataframe tbody tr th {\n",
       "        vertical-align: top;\n",
       "    }\n",
       "\n",
       "    .dataframe thead th {\n",
       "        text-align: right;\n",
       "    }\n",
       "</style>\n",
       "<table border=\"1\" class=\"dataframe\">\n",
       "  <thead>\n",
       "    <tr style=\"text-align: right;\">\n",
       "      <th></th>\n",
       "      <th>link</th>\n",
       "      <th>words</th>\n",
       "    </tr>\n",
       "    <tr>\n",
       "      <th>time</th>\n",
       "      <th></th>\n",
       "      <th></th>\n",
       "    </tr>\n",
       "  </thead>\n",
       "  <tbody>\n",
       "    <tr>\n",
       "      <th>2018-09-27 00:31:19</th>\n",
       "      <td>https://www.nytimes.com/2018/09/26/sports/manc...</td>\n",
       "      <td>[MANCHESTER, England, It, was, past, midnight,...</td>\n",
       "    </tr>\n",
       "    <tr>\n",
       "      <th>2018-09-27 04:03:26</th>\n",
       "      <td>https://www.nytimes.com/2018/09/27/briefing/eu...</td>\n",
       "      <td>[Want, to, get, this, briefing, by, email, Her...</td>\n",
       "    </tr>\n",
       "    <tr>\n",
       "      <th>2018-09-27 04:41:51</th>\n",
       "      <td>https://www.nytimes.com/2018/09/27/world/austr...</td>\n",
       "      <td>[The, Australia, Letter, is, a, weekly, newsle...</td>\n",
       "    </tr>\n",
       "    <tr>\n",
       "      <th>2018-09-27 09:00:05</th>\n",
       "      <td>https://www.nytimes.com/2018/09/27/travel/how-...</td>\n",
       "      <td>[When, looking, for, restaurant, recommendatio...</td>\n",
       "    </tr>\n",
       "    <tr>\n",
       "      <th>2018-09-27 09:44:58</th>\n",
       "      <td>https://www.nytimes.com/2018/09/27/briefing/br...</td>\n",
       "      <td>[Want, to, get, this, briefing, by, email, Her...</td>\n",
       "    </tr>\n",
       "  </tbody>\n",
       "</table>\n",
       "</div>"
      ],
      "text/plain": [
       "                                                                  link  \\\n",
       "time                                                                     \n",
       "2018-09-27 00:31:19  https://www.nytimes.com/2018/09/26/sports/manc...   \n",
       "2018-09-27 04:03:26  https://www.nytimes.com/2018/09/27/briefing/eu...   \n",
       "2018-09-27 04:41:51  https://www.nytimes.com/2018/09/27/world/austr...   \n",
       "2018-09-27 09:00:05  https://www.nytimes.com/2018/09/27/travel/how-...   \n",
       "2018-09-27 09:44:58  https://www.nytimes.com/2018/09/27/briefing/br...   \n",
       "\n",
       "                                                                 words  \n",
       "time                                                                    \n",
       "2018-09-27 00:31:19  [MANCHESTER, England, It, was, past, midnight,...  \n",
       "2018-09-27 04:03:26  [Want, to, get, this, briefing, by, email, Her...  \n",
       "2018-09-27 04:41:51  [The, Australia, Letter, is, a, weekly, newsle...  \n",
       "2018-09-27 09:00:05  [When, looking, for, restaurant, recommendatio...  \n",
       "2018-09-27 09:44:58  [Want, to, get, this, briefing, by, email, Her...  "
      ]
     },
     "execution_count": 7,
     "metadata": {},
     "output_type": "execute_result"
    }
   ],
   "source": [
    "df.head()"
   ]
  },
  {
   "cell_type": "code",
   "execution_count": 8,
   "metadata": {},
   "outputs": [],
   "source": [
    "# Collapse the weekend articles all onto Friday\n",
    "df['dayofweek'] = df.index.dayofweek\n",
    "df.loc[df.dayofweek == 5,  'index'] = df[df.dayofweek == 5].index - pd.Timedelta(days=1)\n",
    "df.loc[df.dayofweek == 6, 'index'] = df[df.dayofweek == 6].index - pd.Timedelta(days=2)\n",
    "df.loc[(df.dayofweek != 5) & (df.dayofweek != 6),  'index'] = df[(df.dayofweek != 5) & (df.dayofweek != 6)].index"
   ]
  },
  {
   "cell_type": "code",
   "execution_count": 9,
   "metadata": {},
   "outputs": [],
   "source": [
    "df = df.set_index('index')\n",
    "df.drop(columns = 'dayofweek', inplace = True)"
   ]
  },
  {
   "cell_type": "code",
   "execution_count": 10,
   "metadata": {},
   "outputs": [
    {
     "data": {
      "text/html": [
       "<div>\n",
       "<style scoped>\n",
       "    .dataframe tbody tr th:only-of-type {\n",
       "        vertical-align: middle;\n",
       "    }\n",
       "\n",
       "    .dataframe tbody tr th {\n",
       "        vertical-align: top;\n",
       "    }\n",
       "\n",
       "    .dataframe thead th {\n",
       "        text-align: right;\n",
       "    }\n",
       "</style>\n",
       "<table border=\"1\" class=\"dataframe\">\n",
       "  <thead>\n",
       "    <tr style=\"text-align: right;\">\n",
       "      <th></th>\n",
       "      <th>link</th>\n",
       "      <th>words</th>\n",
       "    </tr>\n",
       "    <tr>\n",
       "      <th>index</th>\n",
       "      <th></th>\n",
       "      <th></th>\n",
       "    </tr>\n",
       "  </thead>\n",
       "  <tbody>\n",
       "    <tr>\n",
       "      <th>2018-09-28 20:33:28</th>\n",
       "      <td>https://www.nytimes.com/2018/09/28/books/revie...</td>\n",
       "      <td>[Subscribe, iTunes, Google, Play, Music, How, ...</td>\n",
       "    </tr>\n",
       "    <tr>\n",
       "      <th>2018-09-28 23:27:41</th>\n",
       "      <td>https://www.nytimes.com/2018/09/29/world/europ...</td>\n",
       "      <td>[LONDON, The, British, telephone, box, is, not...</td>\n",
       "    </tr>\n",
       "    <tr>\n",
       "      <th>2018-09-28 04:05:01</th>\n",
       "      <td>https://www.nytimes.com/2018/09/30/fashion/wed...</td>\n",
       "      <td>[Stephanie, Audrey, Friedman, and, Stanley, Ga...</td>\n",
       "    </tr>\n",
       "    <tr>\n",
       "      <th>2018-09-28 04:10:01</th>\n",
       "      <td>https://www.nytimes.com/2018/09/30/fashion/wed...</td>\n",
       "      <td>[Jennifer, Yoosun, Berry, and, Travis, Shane, ...</td>\n",
       "    </tr>\n",
       "    <tr>\n",
       "      <th>2018-09-28 04:30:02</th>\n",
       "      <td>https://www.nytimes.com/2018/09/30/fashion/wed...</td>\n",
       "      <td>[Tiffany, Lynn, Jow, and, Wade, James, Michael...</td>\n",
       "    </tr>\n",
       "    <tr>\n",
       "      <th>2018-09-28 20:36:34</th>\n",
       "      <td>https://www.nytimes.com/2018/09/30/business/me...</td>\n",
       "      <td>[GLENDALE, Calif, A, young, actor, with, a, bu...</td>\n",
       "    </tr>\n",
       "    <tr>\n",
       "      <th>2018-10-01 05:00:06</th>\n",
       "      <td>https://www.nytimes.com/2018/10/01/arts/televi...</td>\n",
       "      <td>[A, new, sitcom, airs, on, CBS, while, a, new,...</td>\n",
       "    </tr>\n",
       "    <tr>\n",
       "      <th>2018-10-01 11:08:25</th>\n",
       "      <td>https://www.nytimes.com/2018/10/01/business/de...</td>\n",
       "      <td>[Good, Monday, Want, this, by, email, Sign, up...</td>\n",
       "    </tr>\n",
       "  </tbody>\n",
       "</table>\n",
       "</div>"
      ],
      "text/plain": [
       "                                                                  link  \\\n",
       "index                                                                    \n",
       "2018-09-28 20:33:28  https://www.nytimes.com/2018/09/28/books/revie...   \n",
       "2018-09-28 23:27:41  https://www.nytimes.com/2018/09/29/world/europ...   \n",
       "2018-09-28 04:05:01  https://www.nytimes.com/2018/09/30/fashion/wed...   \n",
       "2018-09-28 04:10:01  https://www.nytimes.com/2018/09/30/fashion/wed...   \n",
       "2018-09-28 04:30:02  https://www.nytimes.com/2018/09/30/fashion/wed...   \n",
       "2018-09-28 20:36:34  https://www.nytimes.com/2018/09/30/business/me...   \n",
       "2018-10-01 05:00:06  https://www.nytimes.com/2018/10/01/arts/televi...   \n",
       "2018-10-01 11:08:25  https://www.nytimes.com/2018/10/01/business/de...   \n",
       "\n",
       "                                                                 words  \n",
       "index                                                                   \n",
       "2018-09-28 20:33:28  [Subscribe, iTunes, Google, Play, Music, How, ...  \n",
       "2018-09-28 23:27:41  [LONDON, The, British, telephone, box, is, not...  \n",
       "2018-09-28 04:05:01  [Stephanie, Audrey, Friedman, and, Stanley, Ga...  \n",
       "2018-09-28 04:10:01  [Jennifer, Yoosun, Berry, and, Travis, Shane, ...  \n",
       "2018-09-28 04:30:02  [Tiffany, Lynn, Jow, and, Wade, James, Michael...  \n",
       "2018-09-28 20:36:34  [GLENDALE, Calif, A, young, actor, with, a, bu...  \n",
       "2018-10-01 05:00:06  [A, new, sitcom, airs, on, CBS, while, a, new,...  \n",
       "2018-10-01 11:08:25  [Good, Monday, Want, this, by, email, Sign, up...  "
      ]
     },
     "execution_count": 10,
     "metadata": {},
     "output_type": "execute_result"
    }
   ],
   "source": [
    "# Weekends are now gotten rid of.\n",
    "df[28:36]"
   ]
  },
  {
   "cell_type": "code",
   "execution_count": 11,
   "metadata": {},
   "outputs": [],
   "source": [
    "#Convert to String. Handle None type\n",
    "df['liststring'] = [','.join(map(str, l)) if l is not None else \"\" for l in df['words'] ]\n",
    "df.drop(columns= ['words'], inplace = True)"
   ]
  },
  {
   "cell_type": "code",
   "execution_count": 12,
   "metadata": {},
   "outputs": [],
   "source": [
    "#Concat all the strings of a single day together\n",
    "post_df = df.groupby(pd.Grouper(freq='D'))['liststring'].apply(lambda x: x.sum())"
   ]
  },
  {
   "cell_type": "code",
   "execution_count": 13,
   "metadata": {},
   "outputs": [
    {
     "name": "stdout",
     "output_type": "stream",
     "text": [
      "DatetimeIndex(['2018-09-27'], dtype='datetime64[ns]', name='index', freq='D')\n",
      "DatetimeIndex(['2019-05-17'], dtype='datetime64[ns]', name='index', freq='D')\n"
     ]
    }
   ],
   "source": [
    "#Range of dates\n",
    "print(post_df.head(1).index)\n",
    "print(post_df.tail(1).index)"
   ]
  },
  {
   "cell_type": "markdown",
   "metadata": {},
   "source": [
    "## Prepare labels (which is the stock data) "
   ]
  },
  {
   "cell_type": "code",
   "execution_count": 14,
   "metadata": {},
   "outputs": [],
   "source": [
    "#Get the stock data to use as our labels\n",
    "label = stock_data.get_stock_data('GOOG', '94Z49Z19XNL1GGGP')"
   ]
  },
  {
   "cell_type": "code",
   "execution_count": 15,
   "metadata": {},
   "outputs": [
    {
     "name": "stdout",
     "output_type": "stream",
     "text": [
      "DatetimeIndex(['2014-03-27'], dtype='datetime64[ns]', name='date', freq=None)\n",
      "DatetimeIndex(['2019-05-22'], dtype='datetime64[ns]', name='date', freq=None)\n"
     ]
    }
   ],
   "source": [
    "#Range of dates\n",
    "print(label.head(1).index)\n",
    "print(label.tail(1).index)"
   ]
  },
  {
   "cell_type": "code",
   "execution_count": 16,
   "metadata": {},
   "outputs": [],
   "source": [
    "#Truncate the date range to fit the post_df dataframe\n",
    "label = label.truncate(before=pd.Timestamp('2018-09-27'), after=pd.Timestamp('2019-05-17'))"
   ]
  },
  {
   "cell_type": "code",
   "execution_count": 17,
   "metadata": {},
   "outputs": [
    {
     "data": {
      "text/html": [
       "<div>\n",
       "<style scoped>\n",
       "    .dataframe tbody tr th:only-of-type {\n",
       "        vertical-align: middle;\n",
       "    }\n",
       "\n",
       "    .dataframe tbody tr th {\n",
       "        vertical-align: top;\n",
       "    }\n",
       "\n",
       "    .dataframe thead th {\n",
       "        text-align: right;\n",
       "    }\n",
       "</style>\n",
       "<table border=\"1\" class=\"dataframe\">\n",
       "  <thead>\n",
       "    <tr style=\"text-align: right;\">\n",
       "      <th></th>\n",
       "      <th>open</th>\n",
       "      <th>high</th>\n",
       "      <th>low</th>\n",
       "      <th>close</th>\n",
       "      <th>volume</th>\n",
       "    </tr>\n",
       "    <tr>\n",
       "      <th>date</th>\n",
       "      <th></th>\n",
       "      <th></th>\n",
       "      <th></th>\n",
       "      <th></th>\n",
       "      <th></th>\n",
       "    </tr>\n",
       "  </thead>\n",
       "  <tbody>\n",
       "    <tr>\n",
       "      <th>2018-09-27</th>\n",
       "      <td>1186.7300</td>\n",
       "      <td>1202.1000</td>\n",
       "      <td>1183.6300</td>\n",
       "      <td>1194.6400</td>\n",
       "      <td>1260754</td>\n",
       "    </tr>\n",
       "    <tr>\n",
       "      <th>2018-09-28</th>\n",
       "      <td>1191.8700</td>\n",
       "      <td>1195.4100</td>\n",
       "      <td>1184.5000</td>\n",
       "      <td>1193.4700</td>\n",
       "      <td>1380629</td>\n",
       "    </tr>\n",
       "    <tr>\n",
       "      <th>2018-10-01</th>\n",
       "      <td>1199.8900</td>\n",
       "      <td>1209.9000</td>\n",
       "      <td>1190.3000</td>\n",
       "      <td>1195.3100</td>\n",
       "      <td>1357604</td>\n",
       "    </tr>\n",
       "  </tbody>\n",
       "</table>\n",
       "</div>"
      ],
      "text/plain": [
       "                 open       high        low      close   volume\n",
       "date                                                           \n",
       "2018-09-27  1186.7300  1202.1000  1183.6300  1194.6400  1260754\n",
       "2018-09-28  1191.8700  1195.4100  1184.5000  1193.4700  1380629\n",
       "2018-10-01  1199.8900  1209.9000  1190.3000  1195.3100  1357604"
      ]
     },
     "execution_count": 17,
     "metadata": {},
     "output_type": "execute_result"
    }
   ],
   "source": [
    "label.drop(columns=['ds'], inplace=True)\n",
    "label.head(3)"
   ]
  },
  {
   "cell_type": "markdown",
   "metadata": {},
   "source": [
    "This data doesn't have weekends. Need to think of some kind of way to handle this."
   ]
  },
  {
   "cell_type": "markdown",
   "metadata": {},
   "source": [
    "# Applying labels to article DataFrame"
   ]
  },
  {
   "cell_type": "code",
   "execution_count": 18,
   "metadata": {},
   "outputs": [
    {
     "data": {
      "text/html": [
       "<div>\n",
       "<style scoped>\n",
       "    .dataframe tbody tr th:only-of-type {\n",
       "        vertical-align: middle;\n",
       "    }\n",
       "\n",
       "    .dataframe tbody tr th {\n",
       "        vertical-align: top;\n",
       "    }\n",
       "\n",
       "    .dataframe thead th {\n",
       "        text-align: right;\n",
       "    }\n",
       "</style>\n",
       "<table border=\"1\" class=\"dataframe\">\n",
       "  <thead>\n",
       "    <tr style=\"text-align: right;\">\n",
       "      <th></th>\n",
       "      <th>words</th>\n",
       "      <th>dayofweek</th>\n",
       "    </tr>\n",
       "    <tr>\n",
       "      <th>index</th>\n",
       "      <th></th>\n",
       "      <th></th>\n",
       "    </tr>\n",
       "  </thead>\n",
       "  <tbody>\n",
       "    <tr>\n",
       "      <th>2018-09-27</th>\n",
       "      <td>MANCHESTER,England,It,was,past,midnight,when,J...</td>\n",
       "      <td>3</td>\n",
       "    </tr>\n",
       "    <tr>\n",
       "      <th>2018-09-28</th>\n",
       "      <td>You,may,have,noticed,a,bold,advertisement,in,T...</td>\n",
       "      <td>4</td>\n",
       "    </tr>\n",
       "    <tr>\n",
       "      <th>2018-10-01</th>\n",
       "      <td>A,new,sitcom,airs,on,CBS,while,a,new,documenta...</td>\n",
       "      <td>0</td>\n",
       "    </tr>\n",
       "    <tr>\n",
       "      <th>2018-10-02</th>\n",
       "      <td>Student,Athlete,a,documentary,with,LeBron,Jame...</td>\n",
       "      <td>1</td>\n",
       "    </tr>\n",
       "    <tr>\n",
       "      <th>2018-10-03</th>\n",
       "      <td>Apple,opened,a,routine,product,launch,event,la...</td>\n",
       "      <td>2</td>\n",
       "    </tr>\n",
       "  </tbody>\n",
       "</table>\n",
       "</div>"
      ],
      "text/plain": [
       "                                                        words  dayofweek\n",
       "index                                                                   \n",
       "2018-09-27  MANCHESTER,England,It,was,past,midnight,when,J...          3\n",
       "2018-09-28  You,may,have,noticed,a,bold,advertisement,in,T...          4\n",
       "2018-10-01  A,new,sitcom,airs,on,CBS,while,a,new,documenta...          0\n",
       "2018-10-02  Student,Athlete,a,documentary,with,LeBron,Jame...          1\n",
       "2018-10-03  Apple,opened,a,routine,product,launch,event,la...          2"
      ]
     },
     "execution_count": 18,
     "metadata": {},
     "output_type": "execute_result"
    }
   ],
   "source": [
    "# Get days of the week\n",
    "sdf = pd.DataFrame({'words': post_df})\n",
    "sdf['dayofweek'] = sdf.index.dayofweek\n",
    "\n",
    "# #Drop weekends\n",
    "sdf = sdf[sdf.dayofweek != 5]\n",
    "sdf = sdf[sdf.dayofweek != 6]\n",
    "sdf.head()"
   ]
  },
  {
   "cell_type": "code",
   "execution_count": 19,
   "metadata": {},
   "outputs": [],
   "source": [
    "# Label Days of week\n",
    "label['dayofweek'] = label.index.dayofweek\n",
    "label.drop(columns=['high', 'low', 'close', 'volume'], inplace=True)"
   ]
  },
  {
   "cell_type": "code",
   "execution_count": 20,
   "metadata": {},
   "outputs": [],
   "source": [
    "# Shift dates back by 1 day, stored into column \"last\"\n",
    "# Handle the unique case of Monday where the delta will be taken from Friday. Not Sunday.\n",
    "label.loc[label.dayofweek == 0, 'last'] = label[label.dayofweek == 0].index - pd.Timedelta(days=3)\n",
    "label.loc[label.dayofweek != 0, 'last'] = label[label.dayofweek != 0].index - pd.Timedelta(days=1)"
   ]
  },
  {
   "cell_type": "code",
   "execution_count": 21,
   "metadata": {},
   "outputs": [
    {
     "data": {
      "text/html": [
       "<div>\n",
       "<style scoped>\n",
       "    .dataframe tbody tr th:only-of-type {\n",
       "        vertical-align: middle;\n",
       "    }\n",
       "\n",
       "    .dataframe tbody tr th {\n",
       "        vertical-align: top;\n",
       "    }\n",
       "\n",
       "    .dataframe thead th {\n",
       "        text-align: right;\n",
       "    }\n",
       "</style>\n",
       "<table border=\"1\" class=\"dataframe\">\n",
       "  <thead>\n",
       "    <tr style=\"text-align: right;\">\n",
       "      <th></th>\n",
       "      <th>open</th>\n",
       "      <th>dayofweek</th>\n",
       "      <th>last</th>\n",
       "    </tr>\n",
       "    <tr>\n",
       "      <th>date</th>\n",
       "      <th></th>\n",
       "      <th></th>\n",
       "      <th></th>\n",
       "    </tr>\n",
       "  </thead>\n",
       "  <tbody>\n",
       "    <tr>\n",
       "      <th>2018-09-27</th>\n",
       "      <td>1186.7300</td>\n",
       "      <td>3</td>\n",
       "      <td>2018-09-26</td>\n",
       "    </tr>\n",
       "    <tr>\n",
       "      <th>2018-09-28</th>\n",
       "      <td>1191.8700</td>\n",
       "      <td>4</td>\n",
       "      <td>2018-09-27</td>\n",
       "    </tr>\n",
       "    <tr>\n",
       "      <th>2018-10-01</th>\n",
       "      <td>1199.8900</td>\n",
       "      <td>0</td>\n",
       "      <td>2018-09-28</td>\n",
       "    </tr>\n",
       "    <tr>\n",
       "      <th>2018-10-02</th>\n",
       "      <td>1190.9600</td>\n",
       "      <td>1</td>\n",
       "      <td>2018-10-01</td>\n",
       "    </tr>\n",
       "    <tr>\n",
       "      <th>2018-10-03</th>\n",
       "      <td>1205.0000</td>\n",
       "      <td>2</td>\n",
       "      <td>2018-10-02</td>\n",
       "    </tr>\n",
       "  </tbody>\n",
       "</table>\n",
       "</div>"
      ],
      "text/plain": [
       "                 open  dayofweek       last\n",
       "date                                       \n",
       "2018-09-27  1186.7300          3 2018-09-26\n",
       "2018-09-28  1191.8700          4 2018-09-27\n",
       "2018-10-01  1199.8900          0 2018-09-28\n",
       "2018-10-02  1190.9600          1 2018-10-01\n",
       "2018-10-03  1205.0000          2 2018-10-02"
      ]
     },
     "execution_count": 21,
     "metadata": {},
     "output_type": "execute_result"
    }
   ],
   "source": [
    "label.head()"
   ]
  },
  {
   "cell_type": "code",
   "execution_count": 22,
   "metadata": {},
   "outputs": [],
   "source": [
    "deltas = label.merge(label, left_on='last', right_on='date', suffixes=('_left', '_right'))"
   ]
  },
  {
   "cell_type": "code",
   "execution_count": 23,
   "metadata": {},
   "outputs": [
    {
     "data": {
      "text/html": [
       "<div>\n",
       "<style scoped>\n",
       "    .dataframe tbody tr th:only-of-type {\n",
       "        vertical-align: middle;\n",
       "    }\n",
       "\n",
       "    .dataframe tbody tr th {\n",
       "        vertical-align: top;\n",
       "    }\n",
       "\n",
       "    .dataframe thead th {\n",
       "        text-align: right;\n",
       "    }\n",
       "</style>\n",
       "<table border=\"1\" class=\"dataframe\">\n",
       "  <thead>\n",
       "    <tr style=\"text-align: right;\">\n",
       "      <th></th>\n",
       "      <th>open_left</th>\n",
       "      <th>dayofweek_left</th>\n",
       "      <th>last_left</th>\n",
       "      <th>open_right</th>\n",
       "      <th>dayofweek_right</th>\n",
       "      <th>last_right</th>\n",
       "    </tr>\n",
       "  </thead>\n",
       "  <tbody>\n",
       "    <tr>\n",
       "      <th>0</th>\n",
       "      <td>1191.8700</td>\n",
       "      <td>4</td>\n",
       "      <td>2018-09-27</td>\n",
       "      <td>1186.7300</td>\n",
       "      <td>3</td>\n",
       "      <td>2018-09-26</td>\n",
       "    </tr>\n",
       "    <tr>\n",
       "      <th>1</th>\n",
       "      <td>1199.8900</td>\n",
       "      <td>0</td>\n",
       "      <td>2018-09-28</td>\n",
       "      <td>1191.8700</td>\n",
       "      <td>4</td>\n",
       "      <td>2018-09-27</td>\n",
       "    </tr>\n",
       "    <tr>\n",
       "      <th>2</th>\n",
       "      <td>1190.9600</td>\n",
       "      <td>1</td>\n",
       "      <td>2018-10-01</td>\n",
       "      <td>1199.8900</td>\n",
       "      <td>0</td>\n",
       "      <td>2018-09-28</td>\n",
       "    </tr>\n",
       "    <tr>\n",
       "      <th>3</th>\n",
       "      <td>1205.0000</td>\n",
       "      <td>2</td>\n",
       "      <td>2018-10-02</td>\n",
       "      <td>1190.9600</td>\n",
       "      <td>1</td>\n",
       "      <td>2018-10-01</td>\n",
       "    </tr>\n",
       "    <tr>\n",
       "      <th>4</th>\n",
       "      <td>1195.3300</td>\n",
       "      <td>3</td>\n",
       "      <td>2018-10-03</td>\n",
       "      <td>1205.0000</td>\n",
       "      <td>2</td>\n",
       "      <td>2018-10-02</td>\n",
       "    </tr>\n",
       "  </tbody>\n",
       "</table>\n",
       "</div>"
      ],
      "text/plain": [
       "   open_left  dayofweek_left  last_left open_right  dayofweek_right last_right\n",
       "0  1191.8700               4 2018-09-27  1186.7300                3 2018-09-26\n",
       "1  1199.8900               0 2018-09-28  1191.8700                4 2018-09-27\n",
       "2  1190.9600               1 2018-10-01  1199.8900                0 2018-09-28\n",
       "3  1205.0000               2 2018-10-02  1190.9600                1 2018-10-01\n",
       "4  1195.3300               3 2018-10-03  1205.0000                2 2018-10-02"
      ]
     },
     "execution_count": 23,
     "metadata": {},
     "output_type": "execute_result"
    }
   ],
   "source": [
    "deltas.head()"
   ]
  },
  {
   "cell_type": "code",
   "execution_count": 24,
   "metadata": {},
   "outputs": [
    {
     "data": {
      "text/plain": [
       "(152, 3)"
      ]
     },
     "metadata": {},
     "output_type": "display_data"
    },
    {
     "data": {
      "text/html": [
       "<div>\n",
       "<style scoped>\n",
       "    .dataframe tbody tr th:only-of-type {\n",
       "        vertical-align: middle;\n",
       "    }\n",
       "\n",
       "    .dataframe tbody tr th {\n",
       "        vertical-align: top;\n",
       "    }\n",
       "\n",
       "    .dataframe thead th {\n",
       "        text-align: right;\n",
       "    }\n",
       "</style>\n",
       "<table border=\"1\" class=\"dataframe\">\n",
       "  <thead>\n",
       "    <tr style=\"text-align: right;\">\n",
       "      <th></th>\n",
       "      <th>dayofweek_left</th>\n",
       "      <th>dayofweek_right</th>\n",
       "      <th>delta</th>\n",
       "    </tr>\n",
       "    <tr>\n",
       "      <th>last_left</th>\n",
       "      <th></th>\n",
       "      <th></th>\n",
       "      <th></th>\n",
       "    </tr>\n",
       "  </thead>\n",
       "  <tbody>\n",
       "    <tr>\n",
       "      <th>2018-09-27</th>\n",
       "      <td>4</td>\n",
       "      <td>3</td>\n",
       "      <td>5.14</td>\n",
       "    </tr>\n",
       "    <tr>\n",
       "      <th>2018-09-28</th>\n",
       "      <td>0</td>\n",
       "      <td>4</td>\n",
       "      <td>8.02</td>\n",
       "    </tr>\n",
       "    <tr>\n",
       "      <th>2018-10-01</th>\n",
       "      <td>1</td>\n",
       "      <td>0</td>\n",
       "      <td>-8.93</td>\n",
       "    </tr>\n",
       "    <tr>\n",
       "      <th>2018-10-02</th>\n",
       "      <td>2</td>\n",
       "      <td>1</td>\n",
       "      <td>14.04</td>\n",
       "    </tr>\n",
       "    <tr>\n",
       "      <th>2018-10-03</th>\n",
       "      <td>3</td>\n",
       "      <td>2</td>\n",
       "      <td>-9.67</td>\n",
       "    </tr>\n",
       "  </tbody>\n",
       "</table>\n",
       "</div>"
      ],
      "text/plain": [
       "            dayofweek_left  dayofweek_right  delta\n",
       "last_left                                         \n",
       "2018-09-27               4                3   5.14\n",
       "2018-09-28               0                4   8.02\n",
       "2018-10-01               1                0  -8.93\n",
       "2018-10-02               2                1  14.04\n",
       "2018-10-03               3                2  -9.67"
      ]
     },
     "execution_count": 24,
     "metadata": {},
     "output_type": "execute_result"
    }
   ],
   "source": [
    "# Subtract the open prices between the merged \"open\" columns\n",
    "deltas = label.merge(label, left_on='last', right_on='date', suffixes=('_left', '_right'))\n",
    "deltas.rename({'open_left':'date'}, inplace=True)\n",
    "deltas.set_index('last_left', drop=True, inplace=True)\n",
    "deltas['delta'] = pd.to_numeric(deltas.open_left) - pd.to_numeric(deltas.open_right)\n",
    "deltas.drop(columns=['open_left', 'open_right', 'last_right'], inplace=True)\n",
    "display(deltas.shape)\n",
    "deltas.head()"
   ]
  },
  {
   "cell_type": "code",
   "execution_count": 25,
   "metadata": {},
   "outputs": [],
   "source": [
    "# Join the delta data with the original df of article data\n",
    "# proc_df = sdf.merge(label.drop(columns=['last']), how='outer', left_index=True, right_index=True)\n",
    "# display(proc_df.head())\n",
    "# display(proc_df.shape)\n",
    "# proc_df.dtypes"
   ]
  },
  {
   "cell_type": "code",
   "execution_count": 26,
   "metadata": {},
   "outputs": [],
   "source": [
    "proc_df = sdf\n",
    "proc_df['delta'] = deltas.delta"
   ]
  },
  {
   "cell_type": "code",
   "execution_count": 27,
   "metadata": {},
   "outputs": [
    {
     "data": {
      "text/html": [
       "<div>\n",
       "<style scoped>\n",
       "    .dataframe tbody tr th:only-of-type {\n",
       "        vertical-align: middle;\n",
       "    }\n",
       "\n",
       "    .dataframe tbody tr th {\n",
       "        vertical-align: top;\n",
       "    }\n",
       "\n",
       "    .dataframe thead th {\n",
       "        text-align: right;\n",
       "    }\n",
       "</style>\n",
       "<table border=\"1\" class=\"dataframe\">\n",
       "  <thead>\n",
       "    <tr style=\"text-align: right;\">\n",
       "      <th></th>\n",
       "      <th>words</th>\n",
       "      <th>dayofweek</th>\n",
       "      <th>delta</th>\n",
       "    </tr>\n",
       "    <tr>\n",
       "      <th>index</th>\n",
       "      <th></th>\n",
       "      <th></th>\n",
       "      <th></th>\n",
       "    </tr>\n",
       "  </thead>\n",
       "  <tbody>\n",
       "    <tr>\n",
       "      <th>2018-09-27</th>\n",
       "      <td>MANCHESTER,England,It,was,past,midnight,when,J...</td>\n",
       "      <td>3</td>\n",
       "      <td>5.14</td>\n",
       "    </tr>\n",
       "    <tr>\n",
       "      <th>2018-09-28</th>\n",
       "      <td>You,may,have,noticed,a,bold,advertisement,in,T...</td>\n",
       "      <td>4</td>\n",
       "      <td>8.02</td>\n",
       "    </tr>\n",
       "    <tr>\n",
       "      <th>2018-10-01</th>\n",
       "      <td>A,new,sitcom,airs,on,CBS,while,a,new,documenta...</td>\n",
       "      <td>0</td>\n",
       "      <td>-8.93</td>\n",
       "    </tr>\n",
       "    <tr>\n",
       "      <th>2018-10-02</th>\n",
       "      <td>Student,Athlete,a,documentary,with,LeBron,Jame...</td>\n",
       "      <td>1</td>\n",
       "      <td>14.04</td>\n",
       "    </tr>\n",
       "    <tr>\n",
       "      <th>2018-10-03</th>\n",
       "      <td>Apple,opened,a,routine,product,launch,event,la...</td>\n",
       "      <td>2</td>\n",
       "      <td>-9.67</td>\n",
       "    </tr>\n",
       "  </tbody>\n",
       "</table>\n",
       "</div>"
      ],
      "text/plain": [
       "                                                        words  dayofweek  \\\n",
       "index                                                                      \n",
       "2018-09-27  MANCHESTER,England,It,was,past,midnight,when,J...          3   \n",
       "2018-09-28  You,may,have,noticed,a,bold,advertisement,in,T...          4   \n",
       "2018-10-01  A,new,sitcom,airs,on,CBS,while,a,new,documenta...          0   \n",
       "2018-10-02  Student,Athlete,a,documentary,with,LeBron,Jame...          1   \n",
       "2018-10-03  Apple,opened,a,routine,product,launch,event,la...          2   \n",
       "\n",
       "            delta  \n",
       "index              \n",
       "2018-09-27   5.14  \n",
       "2018-09-28   8.02  \n",
       "2018-10-01  -8.93  \n",
       "2018-10-02  14.04  \n",
       "2018-10-03  -9.67  "
      ]
     },
     "execution_count": 27,
     "metadata": {},
     "output_type": "execute_result"
    }
   ],
   "source": [
    "proc_df.head()"
   ]
  },
  {
   "cell_type": "code",
   "execution_count": 28,
   "metadata": {},
   "outputs": [
    {
     "data": {
      "text/plain": [
       "words        False\n",
       "dayofweek    False\n",
       "delta        False\n",
       "dtype: bool"
      ]
     },
     "execution_count": 28,
     "metadata": {},
     "output_type": "execute_result"
    }
   ],
   "source": [
    "# Check if there are weekends\n",
    "proc_df[(proc_df.dayofweek == 5) | (proc_df.dayofweek == 6)].any()"
   ]
  },
  {
   "cell_type": "markdown",
   "metadata": {},
   "source": [
    "No weekends found. Good."
   ]
  },
  {
   "cell_type": "code",
   "execution_count": 29,
   "metadata": {},
   "outputs": [
    {
     "name": "stdout",
     "output_type": "stream",
     "text": [
      "Check for null:\n",
      "delta    15\n",
      "dtype: int64\n",
      "-----------------------------------\n",
      "Check for na:\n",
      "delta    15\n",
      "dtype: int64\n"
     ]
    }
   ],
   "source": [
    "# Check for null and NA values\n",
    "null_columns = proc_df.columns[proc_df.isnull().any()]\n",
    "na_columns = proc_df.columns[proc_df.isna().any()]\n",
    "print(\"Check for null:\")\n",
    "print(proc_df[null_columns].isnull().sum())\n",
    "print(\"-----------------------------------\")\n",
    "print(\"Check for na:\")\n",
    "print(proc_df[na_columns].isna().sum())"
   ]
  },
  {
   "cell_type": "markdown",
   "metadata": {},
   "source": [
    "Most likely the same 15."
   ]
  },
  {
   "cell_type": "code",
   "execution_count": 30,
   "metadata": {},
   "outputs": [],
   "source": [
    "proc_df = proc_df.dropna()"
   ]
  },
  {
   "cell_type": "code",
   "execution_count": 31,
   "metadata": {},
   "outputs": [
    {
     "name": "stdout",
     "output_type": "stream",
     "text": [
      "Check for null:\n",
      "Series([], dtype: float64)\n",
      "-----------------------------------\n",
      "Check for na:\n",
      "Series([], dtype: float64)\n"
     ]
    }
   ],
   "source": [
    "# Check for null and NA values\n",
    "null_columns = proc_df.columns[proc_df.isnull().any()]\n",
    "na_columns = proc_df.columns[proc_df.isna().any()]\n",
    "print(\"Check for null:\")\n",
    "print(proc_df[null_columns].isnull().sum())\n",
    "print(\"-----------------------------------\")\n",
    "print(\"Check for na:\")\n",
    "print(proc_df[na_columns].isna().sum())"
   ]
  },
  {
   "cell_type": "code",
   "execution_count": 32,
   "metadata": {},
   "outputs": [
    {
     "data": {
      "text/html": [
       "<div>\n",
       "<style scoped>\n",
       "    .dataframe tbody tr th:only-of-type {\n",
       "        vertical-align: middle;\n",
       "    }\n",
       "\n",
       "    .dataframe tbody tr th {\n",
       "        vertical-align: top;\n",
       "    }\n",
       "\n",
       "    .dataframe thead th {\n",
       "        text-align: right;\n",
       "    }\n",
       "</style>\n",
       "<table border=\"1\" class=\"dataframe\">\n",
       "  <thead>\n",
       "    <tr style=\"text-align: right;\">\n",
       "      <th></th>\n",
       "      <th>words</th>\n",
       "      <th>dayofweek</th>\n",
       "      <th>delta</th>\n",
       "    </tr>\n",
       "    <tr>\n",
       "      <th>index</th>\n",
       "      <th></th>\n",
       "      <th></th>\n",
       "      <th></th>\n",
       "    </tr>\n",
       "  </thead>\n",
       "  <tbody>\n",
       "    <tr>\n",
       "      <th>2018-09-27</th>\n",
       "      <td>MANCHESTER,England,It,was,past,midnight,when,J...</td>\n",
       "      <td>3</td>\n",
       "      <td>5.14</td>\n",
       "    </tr>\n",
       "    <tr>\n",
       "      <th>2018-09-28</th>\n",
       "      <td>You,may,have,noticed,a,bold,advertisement,in,T...</td>\n",
       "      <td>4</td>\n",
       "      <td>8.02</td>\n",
       "    </tr>\n",
       "    <tr>\n",
       "      <th>2018-10-01</th>\n",
       "      <td>A,new,sitcom,airs,on,CBS,while,a,new,documenta...</td>\n",
       "      <td>0</td>\n",
       "      <td>-8.93</td>\n",
       "    </tr>\n",
       "    <tr>\n",
       "      <th>2018-10-02</th>\n",
       "      <td>Student,Athlete,a,documentary,with,LeBron,Jame...</td>\n",
       "      <td>1</td>\n",
       "      <td>14.04</td>\n",
       "    </tr>\n",
       "    <tr>\n",
       "      <th>2018-10-03</th>\n",
       "      <td>Apple,opened,a,routine,product,launch,event,la...</td>\n",
       "      <td>2</td>\n",
       "      <td>-9.67</td>\n",
       "    </tr>\n",
       "  </tbody>\n",
       "</table>\n",
       "</div>"
      ],
      "text/plain": [
       "                                                        words  dayofweek  \\\n",
       "index                                                                      \n",
       "2018-09-27  MANCHESTER,England,It,was,past,midnight,when,J...          3   \n",
       "2018-09-28  You,may,have,noticed,a,bold,advertisement,in,T...          4   \n",
       "2018-10-01  A,new,sitcom,airs,on,CBS,while,a,new,documenta...          0   \n",
       "2018-10-02  Student,Athlete,a,documentary,with,LeBron,Jame...          1   \n",
       "2018-10-03  Apple,opened,a,routine,product,launch,event,la...          2   \n",
       "\n",
       "            delta  \n",
       "index              \n",
       "2018-09-27   5.14  \n",
       "2018-09-28   8.02  \n",
       "2018-10-01  -8.93  \n",
       "2018-10-02  14.04  \n",
       "2018-10-03  -9.67  "
      ]
     },
     "execution_count": 32,
     "metadata": {},
     "output_type": "execute_result"
    }
   ],
   "source": [
    "proc_df.head()"
   ]
  },
  {
   "cell_type": "markdown",
   "metadata": {},
   "source": [
    "## Just testing some stuff out"
   ]
  },
  {
   "cell_type": "code",
   "execution_count": 33,
   "metadata": {},
   "outputs": [],
   "source": [
    "sid = SentimentIntensityAnalyzer()"
   ]
  },
  {
   "cell_type": "code",
   "execution_count": 72,
   "metadata": {},
   "outputs": [],
   "source": [
    "def get_rule_sentiment(words):\n",
    "    return validation.get_rule_sentiment(words.split(' '))"
   ]
  },
  {
   "cell_type": "code",
   "execution_count": 73,
   "metadata": {},
   "outputs": [],
   "source": [
    "def get_nltk_sentiment(words):\n",
    "    cc = sid.polarity_scores(words)\n",
    "    return (cc['compound'])"
   ]
  },
  {
   "cell_type": "code",
   "execution_count": 74,
   "metadata": {},
   "outputs": [
    {
     "name": "stderr",
     "output_type": "stream",
     "text": [
      "/Library/Frameworks/Python.framework/Versions/3.7/lib/python3.7/site-packages/ipykernel_launcher.py:1: SettingWithCopyWarning: \n",
      "A value is trying to be set on a copy of a slice from a DataFrame.\n",
      "Try using .loc[row_indexer,col_indexer] = value instead\n",
      "\n",
      "See the caveats in the documentation: http://pandas.pydata.org/pandas-docs/stable/indexing.html#indexing-view-versus-copy\n",
      "  \"\"\"Entry point for launching an IPython kernel.\n",
      "/Library/Frameworks/Python.framework/Versions/3.7/lib/python3.7/site-packages/ipykernel_launcher.py:2: SettingWithCopyWarning: \n",
      "A value is trying to be set on a copy of a slice from a DataFrame.\n",
      "Try using .loc[row_indexer,col_indexer] = value instead\n",
      "\n",
      "See the caveats in the documentation: http://pandas.pydata.org/pandas-docs/stable/indexing.html#indexing-view-versus-copy\n",
      "  \n"
     ]
    },
    {
     "data": {
      "text/html": [
       "<div>\n",
       "<style scoped>\n",
       "    .dataframe tbody tr th:only-of-type {\n",
       "        vertical-align: middle;\n",
       "    }\n",
       "\n",
       "    .dataframe tbody tr th {\n",
       "        vertical-align: top;\n",
       "    }\n",
       "\n",
       "    .dataframe thead th {\n",
       "        text-align: right;\n",
       "    }\n",
       "</style>\n",
       "<table border=\"1\" class=\"dataframe\">\n",
       "  <thead>\n",
       "    <tr style=\"text-align: right;\">\n",
       "      <th></th>\n",
       "      <th>words</th>\n",
       "      <th>dayofweek</th>\n",
       "      <th>delta</th>\n",
       "      <th>nlp_compound</th>\n",
       "      <th>rule_score</th>\n",
       "      <th>nltk_compound</th>\n",
       "    </tr>\n",
       "    <tr>\n",
       "      <th>index</th>\n",
       "      <th></th>\n",
       "      <th></th>\n",
       "      <th></th>\n",
       "      <th></th>\n",
       "      <th></th>\n",
       "      <th></th>\n",
       "    </tr>\n",
       "  </thead>\n",
       "  <tbody>\n",
       "    <tr>\n",
       "      <th>2018-09-27</th>\n",
       "      <td>MANCHESTER,England,It,was,past,midnight,when,J...</td>\n",
       "      <td>3</td>\n",
       "      <td>5.14</td>\n",
       "      <td>19.998</td>\n",
       "      <td>430</td>\n",
       "      <td>0.9999</td>\n",
       "    </tr>\n",
       "    <tr>\n",
       "      <th>2018-09-28</th>\n",
       "      <td>You,may,have,noticed,a,bold,advertisement,in,T...</td>\n",
       "      <td>4</td>\n",
       "      <td>8.02</td>\n",
       "      <td>20.000</td>\n",
       "      <td>578</td>\n",
       "      <td>1.0000</td>\n",
       "    </tr>\n",
       "    <tr>\n",
       "      <th>2018-10-01</th>\n",
       "      <td>A,new,sitcom,airs,on,CBS,while,a,new,documenta...</td>\n",
       "      <td>0</td>\n",
       "      <td>-8.93</td>\n",
       "      <td>19.868</td>\n",
       "      <td>76</td>\n",
       "      <td>0.9934</td>\n",
       "    </tr>\n",
       "    <tr>\n",
       "      <th>2018-10-02</th>\n",
       "      <td>Student,Athlete,a,documentary,with,LeBron,Jame...</td>\n",
       "      <td>1</td>\n",
       "      <td>14.04</td>\n",
       "      <td>19.996</td>\n",
       "      <td>249</td>\n",
       "      <td>0.9998</td>\n",
       "    </tr>\n",
       "    <tr>\n",
       "      <th>2018-10-03</th>\n",
       "      <td>Apple,opened,a,routine,product,launch,event,la...</td>\n",
       "      <td>2</td>\n",
       "      <td>-9.67</td>\n",
       "      <td>19.998</td>\n",
       "      <td>283</td>\n",
       "      <td>0.9999</td>\n",
       "    </tr>\n",
       "  </tbody>\n",
       "</table>\n",
       "</div>"
      ],
      "text/plain": [
       "                                                        words  dayofweek  \\\n",
       "index                                                                      \n",
       "2018-09-27  MANCHESTER,England,It,was,past,midnight,when,J...          3   \n",
       "2018-09-28  You,may,have,noticed,a,bold,advertisement,in,T...          4   \n",
       "2018-10-01  A,new,sitcom,airs,on,CBS,while,a,new,documenta...          0   \n",
       "2018-10-02  Student,Athlete,a,documentary,with,LeBron,Jame...          1   \n",
       "2018-10-03  Apple,opened,a,routine,product,launch,event,la...          2   \n",
       "\n",
       "            delta  nlp_compound  rule_score  nltk_compound  \n",
       "index                                                       \n",
       "2018-09-27   5.14        19.998         430         0.9999  \n",
       "2018-09-28   8.02        20.000         578         1.0000  \n",
       "2018-10-01  -8.93        19.868          76         0.9934  \n",
       "2018-10-02  14.04        19.996         249         0.9998  \n",
       "2018-10-03  -9.67        19.998         283         0.9999  "
      ]
     },
     "execution_count": 74,
     "metadata": {},
     "output_type": "execute_result"
    }
   ],
   "source": [
    "proc_df['rule_score'] = proc_df['words'].map(lambda x : get_rule_sentiment(x.replace(',', ' ')))\n",
    "proc_df['nltk_compound'] = proc_df['words'].map(lambda x : get_nltk_sentiment(x.replace(',', ' ')))\n",
    "proc_df.head()"
   ]
  },
  {
   "cell_type": "markdown",
   "metadata": {},
   "source": [
    "#### Normalize"
   ]
  },
  {
   "cell_type": "code",
   "execution_count": 77,
   "metadata": {},
   "outputs": [
    {
     "name": "stderr",
     "output_type": "stream",
     "text": [
      "/Library/Frameworks/Python.framework/Versions/3.7/lib/python3.7/site-packages/sklearn/preprocessing/data.py:323: DataConversionWarning: Data with input dtype int64, float64 were all converted to float64 by MinMaxScaler.\n",
      "  return self.partial_fit(X, y)\n"
     ]
    }
   ],
   "source": [
    "x = proc_df[['rule_score', 'nltk_compound', 'delta']]\n",
    "min_max_scaler = preprocessing.MinMaxScaler()\n",
    "x_scaled = min_max_scaler.fit_transform(x)\n",
    "data = pd.DataFrame(x_scaled)"
   ]
  },
  {
   "cell_type": "code",
   "execution_count": 78,
   "metadata": {},
   "outputs": [
    {
     "data": {
      "text/plain": [
       "<matplotlib.axes._subplots.AxesSubplot at 0x12cc2d0f0>"
      ]
     },
     "execution_count": 78,
     "metadata": {},
     "output_type": "execute_result"
    },
    {
     "data": {
      "image/png": "[encoded data removed]",
      "text/plain": [
       "<Figure size 1440x360 with 1 Axes>"
      ]
     },
     "metadata": {
      "needs_background": "light"
     },
     "output_type": "display_data"
    }
   ],
   "source": [
    "data.plot(figsize=(20, 5))"
   ]
  }
 ],
 "metadata": {
  "kernelspec": {
   "display_name": "Python 3",
   "language": "python",
   "name": "python3"
  },
  "language_info": {
   "codemirror_mode": {
    "name": "ipython",
    "version": 3
   },
   "file_extension": ".py",
   "mimetype": "text/x-python",
   "name": "python",
   "nbconvert_exporter": "python",
   "pygments_lexer": "ipython3",
   "version": "3.7.0"
  }
 },
 "nbformat": 4,
 "nbformat_minor": 2
}
