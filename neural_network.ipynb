{
 "cells": [
  {
   "cell_type": "markdown",
   "metadata": {},
   "source": [
    "# Exploratory Data Analysis\n",
    "In this notebook, we use the functions we've written in various notebooks to explore how our models' analysis on news sentiment actually compares with changes in stock prices."
   ]
  },
  {
   "cell_type": "code",
   "execution_count": 72,
   "metadata": {},
   "outputs": [],
   "source": [
    "from tensorflow.python.keras.preprocessing.text import Tokenizer\n",
    "from tensorflow.python.keras.preprocessing.sequence import pad_sequences\n",
    "from sklearn.model_selection import train_test_split\n",
    "import compare_sentiment as comp_sent\n",
    "import pandas as pd\n",
    "import matplotlib.pyplot as plt"
   ]
  },
  {
   "cell_type": "markdown",
   "metadata": {},
   "source": [
    "## Google"
   ]
  },
  {
   "cell_type": "code",
   "execution_count": 36,
   "metadata": {},
   "outputs": [],
   "source": [
    "#Get Data\n",
    "google = comp_sent.collapse_articles(data_source = \"./data/google-data.pkl\", stockName = \"GOOG\", \n",
    "                      time_before = '2018-09-27', time_after = '2019-05-17')\n",
    "apple = comp_sent.collapse_articles(data_source = \"./data/apple-data.pkl\", stockName = \"AAPL\", \n",
    "                      time_before = '2018-09-27', time_after = '2019-05-17')\n",
    "tesla = comp_sent.collapse_articles(data_source = \"./data/tesla-data.pkl\", stockName = \"TSLA\", \n",
    "                      time_before = '2018-09-27', time_after = '2019-05-17')\n",
    "micro = comp_sent.collapse_articles(data_source = \"./data/Microsoft-data.pkl\", stockName = \"MSFT\", \n",
    "                      time_before = '2018-09-27', time_after = '2019-05-17')\n",
    "amazon = comp_sent.collapse_articles(data_source = \"./data/amazon-data.pkl\", stockName = \"MSFT\", \n",
    "                      time_before = '2018-09-27', time_after = '2019-05-17')"
   ]
  },
  {
   "cell_type": "code",
   "execution_count": 37,
   "metadata": {},
   "outputs": [],
   "source": [
    "all_company = pd.concat([google, apple, tesla, micro, amazon])"
   ]
  },
  {
   "cell_type": "code",
   "execution_count": 38,
   "metadata": {},
   "outputs": [],
   "source": [
    "all_company['liststring'] = all_company['liststring'].apply(lambda x : x.replace(\",\" , \" \"))"
   ]
  },
  {
   "cell_type": "code",
   "execution_count": 39,
   "metadata": {},
   "outputs": [],
   "source": [
    "all_company['increase'] = (all_company['delta'] >= 0).astype(\"int\")"
   ]
  },
  {
   "cell_type": "code",
   "execution_count": 40,
   "metadata": {},
   "outputs": [
    {
     "data": {
      "text/html": [
       "<div>\n",
       "<style scoped>\n",
       "    .dataframe tbody tr th:only-of-type {\n",
       "        vertical-align: middle;\n",
       "    }\n",
       "\n",
       "    .dataframe tbody tr th {\n",
       "        vertical-align: top;\n",
       "    }\n",
       "\n",
       "    .dataframe thead th {\n",
       "        text-align: right;\n",
       "    }\n",
       "</style>\n",
       "<table border=\"1\" class=\"dataframe\">\n",
       "  <thead>\n",
       "    <tr style=\"text-align: right;\">\n",
       "      <th></th>\n",
       "      <th>liststring</th>\n",
       "      <th>delta</th>\n",
       "      <th>increase</th>\n",
       "    </tr>\n",
       "    <tr>\n",
       "      <th>time</th>\n",
       "      <th></th>\n",
       "      <th></th>\n",
       "      <th></th>\n",
       "    </tr>\n",
       "  </thead>\n",
       "  <tbody>\n",
       "    <tr>\n",
       "      <th>2018-09-27</th>\n",
       "      <td>MANCHESTER England It was past midnight when J...</td>\n",
       "      <td>5.14</td>\n",
       "      <td>1</td>\n",
       "    </tr>\n",
       "    <tr>\n",
       "      <th>2018-09-28</th>\n",
       "      <td>You may have noticed a bold advertisement in T...</td>\n",
       "      <td>8.02</td>\n",
       "      <td>1</td>\n",
       "    </tr>\n",
       "    <tr>\n",
       "      <th>2018-10-01</th>\n",
       "      <td>A new sitcom airs on CBS while a new documenta...</td>\n",
       "      <td>-8.93</td>\n",
       "      <td>0</td>\n",
       "    </tr>\n",
       "    <tr>\n",
       "      <th>2018-10-02</th>\n",
       "      <td>Student Athlete a documentary with LeBron Jame...</td>\n",
       "      <td>14.04</td>\n",
       "      <td>1</td>\n",
       "    </tr>\n",
       "    <tr>\n",
       "      <th>2018-10-03</th>\n",
       "      <td>Apple opened a routine product launch event la...</td>\n",
       "      <td>-9.67</td>\n",
       "      <td>0</td>\n",
       "    </tr>\n",
       "  </tbody>\n",
       "</table>\n",
       "</div>"
      ],
      "text/plain": [
       "                                                   liststring  delta  increase\n",
       "time                                                                          \n",
       "2018-09-27  MANCHESTER England It was past midnight when J...   5.14         1\n",
       "2018-09-28  You may have noticed a bold advertisement in T...   8.02         1\n",
       "2018-10-01  A new sitcom airs on CBS while a new documenta...  -8.93         0\n",
       "2018-10-02  Student Athlete a documentary with LeBron Jame...  14.04         1\n",
       "2018-10-03  Apple opened a routine product launch event la...  -9.67         0"
      ]
     },
     "execution_count": 40,
     "metadata": {},
     "output_type": "execute_result"
    }
   ],
   "source": [
    "all_company.head()"
   ]
  },
  {
   "cell_type": "code",
   "execution_count": 53,
   "metadata": {},
   "outputs": [],
   "source": [
    "#Train test split\n",
    "X_train, X_test, y_train, y_test = train_test_split(all_company['liststring'], all_company['increase'], test_size=0.20, random_state=42)"
   ]
  },
  {
   "cell_type": "markdown",
   "metadata": {},
   "source": [
    "# Word Embedding Model"
   ]
  },
  {
   "cell_type": "code",
   "execution_count": 55,
   "metadata": {},
   "outputs": [
    {
     "name": "stdout",
     "output_type": "stream",
     "text": [
      "5000\n"
     ]
    }
   ],
   "source": [
    "#Tokenize the words\n",
    "tokenizer = Tokenizer()\n",
    "tokenizer.fit_on_texts(all_company['liststring'])\n",
    "\n",
    "# max_length = max([len(s.split()) for s in all_company['liststring']])\n",
    "max_length = 5000\n",
    "print(max_length)"
   ]
  },
  {
   "cell_type": "code",
   "execution_count": 56,
   "metadata": {},
   "outputs": [],
   "source": [
    "vocab_size = len(tokenizer.word_index) + 1\n",
    "\n",
    "X_train_tokens =  tokenizer.texts_to_sequences(X_train)\n",
    "X_test_tokens = tokenizer.texts_to_sequences(X_test)\n",
    "\n",
    "\n",
    "X_train_pad = pad_sequences(X_train_tokens, maxlen=max_length, padding='post')\n",
    "X_test_pad = pad_sequences(X_test_tokens, maxlen=max_length, padding='post')"
   ]
  },
  {
   "cell_type": "code",
   "execution_count": 48,
   "metadata": {},
   "outputs": [],
   "source": [
    "from keras.models import Sequential\n",
    "from keras.layers import Dense, Embedding, LSTM, GRU\n",
    "from keras.layers.embeddings import Embedding\n",
    "\n",
    "#Architecture 1\n",
    "EMBEDDING_DIM = 100\n",
    "model = Sequential()\n",
    "model.add(Embedding(vocab_size, EMBEDDING_DIM, input_length=max_length))\n",
    "model.add(GRU(units=128,  dropout=0.2, recurrent_dropout=0.2))\n",
    "model.add(Dense(1, activation='sigmoid'))\n",
    "# try using different optimizers and different optimizer configs\n",
    "model.compile(loss='binary_crossentropy', optimizer='adam', metrics=['accuracy'])"
   ]
  },
  {
   "cell_type": "code",
   "execution_count": 62,
   "metadata": {},
   "outputs": [],
   "source": [
    "model.fit(X_train_pad, y_train, batch_size=128, epochs=50, validation_data=(X_test_pad, y_test), verbose=2)"
   ]
  },
  {
   "cell_type": "code",
   "execution_count": 73,
   "metadata": {},
   "outputs": [
    {
     "name": "stdout",
     "output_type": "stream",
     "text": [
      "Train on 539 samples, validate on 135 samples\n",
      "Epoch 1/50\n",
      " - 13s - loss: 1.0817 - acc: 0.4842 - val_loss: 0.8255 - val_acc: 0.3556\n",
      "Epoch 2/50\n",
      " - 11s - loss: 0.6758 - acc: 0.5788 - val_loss: 0.7732 - val_acc: 0.3556\n",
      "Epoch 3/50\n",
      " - 11s - loss: 0.5471 - acc: 0.7885 - val_loss: 0.6646 - val_acc: 0.6444\n",
      "Epoch 4/50\n",
      " - 11s - loss: 0.4395 - acc: 0.9629 - val_loss: 0.6421 - val_acc: 0.6593\n",
      "Epoch 5/50\n",
      " - 11s - loss: 0.3314 - acc: 0.9666 - val_loss: 0.6884 - val_acc: 0.6519\n",
      "Epoch 6/50\n",
      " - 11s - loss: 0.2694 - acc: 0.9536 - val_loss: 0.6371 - val_acc: 0.6519\n",
      "Epoch 7/50\n",
      " - 11s - loss: 0.1642 - acc: 0.9852 - val_loss: 0.6432 - val_acc: 0.6519\n",
      "Epoch 8/50\n",
      " - 10s - loss: 0.1121 - acc: 0.9944 - val_loss: 0.6557 - val_acc: 0.5852\n",
      "Epoch 9/50\n",
      " - 10s - loss: 0.0817 - acc: 0.9963 - val_loss: 0.6133 - val_acc: 0.6519\n",
      "Epoch 10/50\n",
      " - 11s - loss: 0.0614 - acc: 0.9963 - val_loss: 0.6161 - val_acc: 0.6667\n",
      "Epoch 11/50\n",
      " - 11s - loss: 0.0506 - acc: 0.9926 - val_loss: 0.6403 - val_acc: 0.6074\n",
      "Epoch 12/50\n",
      " - 11s - loss: 0.0408 - acc: 0.9944 - val_loss: 0.6240 - val_acc: 0.6741\n",
      "Epoch 13/50\n",
      " - 10s - loss: 0.0360 - acc: 0.9963 - val_loss: 0.6458 - val_acc: 0.6222\n",
      "Epoch 14/50\n",
      " - 10s - loss: 0.0304 - acc: 0.9944 - val_loss: 0.7816 - val_acc: 0.4741\n",
      "Epoch 15/50\n",
      " - 10s - loss: 0.0288 - acc: 0.9944 - val_loss: 0.7096 - val_acc: 0.6741\n",
      "Epoch 16/50\n",
      " - 10s - loss: 0.0269 - acc: 0.9944 - val_loss: 0.6368 - val_acc: 0.6444\n",
      "Epoch 17/50\n",
      " - 11s - loss: 0.0245 - acc: 0.9944 - val_loss: 0.6504 - val_acc: 0.6148\n",
      "Epoch 18/50\n",
      " - 11s - loss: 0.0233 - acc: 0.9944 - val_loss: 0.6212 - val_acc: 0.6593\n",
      "Epoch 19/50\n",
      " - 11s - loss: 0.0178 - acc: 0.9963 - val_loss: 0.7277 - val_acc: 0.4667\n",
      "Epoch 20/50\n",
      " - 10s - loss: 0.0243 - acc: 0.9944 - val_loss: 0.9092 - val_acc: 0.6741\n",
      "Epoch 21/50\n",
      " - 11s - loss: 0.0256 - acc: 0.9981 - val_loss: 1.0866 - val_acc: 0.4000\n",
      "Epoch 22/50\n",
      " - 11s - loss: 0.0217 - acc: 0.9944 - val_loss: 0.6515 - val_acc: 0.7037\n",
      "Epoch 23/50\n",
      " - 10s - loss: 0.0256 - acc: 0.9944 - val_loss: 0.7303 - val_acc: 0.6148\n",
      "Epoch 24/50\n",
      " - 11s - loss: 0.0182 - acc: 0.9963 - val_loss: 0.6318 - val_acc: 0.6593\n",
      "Epoch 25/50\n",
      " - 11s - loss: 0.0110 - acc: 0.9963 - val_loss: 0.6916 - val_acc: 0.6370\n",
      "Epoch 26/50\n",
      " - 10s - loss: 0.0191 - acc: 0.9944 - val_loss: 1.3691 - val_acc: 0.4074\n",
      "Epoch 27/50\n",
      " - 10s - loss: 0.0234 - acc: 0.9944 - val_loss: 1.0794 - val_acc: 0.6667\n",
      "Epoch 28/50\n",
      " - 10s - loss: 0.0192 - acc: 0.9963 - val_loss: 0.9228 - val_acc: 0.6000\n",
      "Epoch 29/50\n",
      " - 11s - loss: 0.0170 - acc: 0.9944 - val_loss: 0.6399 - val_acc: 0.6889\n",
      "Epoch 30/50\n",
      " - 11s - loss: 0.0195 - acc: 0.9944 - val_loss: 0.6828 - val_acc: 0.6222\n",
      "Epoch 31/50\n",
      " - 10s - loss: 0.0329 - acc: 0.9926 - val_loss: 0.9883 - val_acc: 0.6667\n",
      "Epoch 32/50\n",
      " - 11s - loss: 0.0205 - acc: 0.9944 - val_loss: 0.7019 - val_acc: 0.6222\n",
      "Epoch 33/50\n",
      " - 11s - loss: 0.0153 - acc: 0.9963 - val_loss: 0.7134 - val_acc: 0.6148\n",
      "Epoch 34/50\n",
      " - 10s - loss: 0.0215 - acc: 0.9944 - val_loss: 0.6728 - val_acc: 0.6370\n",
      "Epoch 35/50\n",
      " - 10s - loss: 0.0209 - acc: 0.9944 - val_loss: 0.6507 - val_acc: 0.6444\n",
      "Epoch 36/50\n",
      " - 10s - loss: 0.0225 - acc: 0.9963 - val_loss: 0.7815 - val_acc: 0.6519\n",
      "Epoch 37/50\n",
      " - 10s - loss: 0.0204 - acc: 0.9963 - val_loss: 1.0495 - val_acc: 0.6667\n",
      "Epoch 38/50\n",
      " - 10s - loss: 0.0220 - acc: 0.9963 - val_loss: 1.0271 - val_acc: 0.6370\n",
      "Epoch 39/50\n",
      " - 10s - loss: 0.0137 - acc: 0.9944 - val_loss: 0.6645 - val_acc: 0.6519\n",
      "Epoch 40/50\n",
      " - 10s - loss: 0.0143 - acc: 0.9963 - val_loss: 1.3246 - val_acc: 0.4370\n",
      "Epoch 41/50\n",
      " - 10s - loss: 0.0115 - acc: 0.9963 - val_loss: 1.0763 - val_acc: 0.6667\n",
      "Epoch 42/50\n",
      " - 9s - loss: 0.0130 - acc: 0.9944 - val_loss: 0.6607 - val_acc: 0.6741\n",
      "Epoch 43/50\n",
      " - 10s - loss: 0.0187 - acc: 0.9963 - val_loss: 1.1931 - val_acc: 0.4296\n",
      "Epoch 44/50\n",
      " - 11s - loss: 0.0204 - acc: 0.9963 - val_loss: 0.8985 - val_acc: 0.5259\n",
      "Epoch 45/50\n",
      " - 10s - loss: 0.0149 - acc: 0.9944 - val_loss: 0.7381 - val_acc: 0.6296\n",
      "Epoch 46/50\n",
      " - 10s - loss: 0.0153 - acc: 0.9963 - val_loss: 0.9232 - val_acc: 0.4815\n",
      "Epoch 47/50\n",
      " - 10s - loss: 0.0109 - acc: 0.9963 - val_loss: 0.8372 - val_acc: 0.6222\n",
      "Epoch 48/50\n",
      " - 10s - loss: 0.0216 - acc: 0.9944 - val_loss: 1.7426 - val_acc: 0.4148\n",
      "Epoch 49/50\n",
      " - 11s - loss: 0.0214 - acc: 0.9963 - val_loss: 0.7221 - val_acc: 0.6074\n",
      "Epoch 50/50\n",
      " - 11s - loss: 0.0178 - acc: 0.9944 - val_loss: 1.8786 - val_acc: 0.3852\n"
     ]
    }
   ],
   "source": [
    "from keras.layers.convolutional import Conv1D, MaxPooling1D\n",
    "from keras.layers import Flatten, Dropout\n",
    "from keras.callbacks import EarlyStopping\n",
    "\n",
    "#Architecture 2\n",
    "model = Sequential()\n",
    "model.add(Embedding(vocab_size, EMBEDDING_DIM, input_length=max_length, trainable = False))\n",
    "model.add(Conv1D(filters=128, kernel_size=5, activation='relu'))\n",
    "model.add(Dropout(0.2))\n",
    "model.add(MaxPooling1D(pool_size=2))\n",
    "model.add(Dropout(0.2))\n",
    "model.add(Flatten())\n",
    "model.add(Dense(1, activation='sigmoid'))\n",
    "\n",
    "# compile network\n",
    "model.compile(loss='binary_crossentropy', optimizer='adam', metrics=['accuracy'])\n",
    "\n",
    "# simple early stopping\n",
    "es = EarlyStopping(monitor='val_loss', mode='min', verbose=1)\n",
    "\n",
    "# fit the model\n",
    "history = model.fit(X_train_pad, y_train, batch_size=32, epochs=50, validation_data=(X_test_pad, y_test), verbose=2)"
   ]
  },
  {
   "cell_type": "code",
   "execution_count": 74,
   "metadata": {},
   "outputs": [
    {
     "data": {
      "text/plain": [
       "<matplotlib.legend.Legend at 0x183e4e630>"
      ]
     },
     "execution_count": 74,
     "metadata": {},
     "output_type": "execute_result"
    },
    {
     "data": {
      "image/png": "[encoded data removed]",
      "text/plain": [
       "<Figure size 432x288 with 1 Axes>"
      ]
     },
     "metadata": {},
     "output_type": "display_data"
    }
   ],
   "source": [
    "plt.plot(history.history['acc'])\n",
    "plt.plot(history.history['val_acc'])\n",
    "plt.title('model accuracy')\n",
    "plt.ylabel('accuracy')\n",
    "plt.xlabel('epoch')\n",
    "plt.legend(['train', 'test'], loc='upper left')"
   ]
  },
  {
   "cell_type": "code",
   "execution_count": 77,
   "metadata": {},
   "outputs": [
    {
     "name": "stdout",
     "output_type": "stream",
     "text": [
      "Train on 539 samples, validate on 135 samples\n",
      "Epoch 1/50\n",
      " - 27s - loss: 0.9747 - acc: 0.4898 - val_loss: 0.7096 - val_acc: 0.4148\n",
      "Epoch 2/50\n",
      " - 25s - loss: 0.5821 - acc: 0.6920 - val_loss: 0.6983 - val_acc: 0.4296\n",
      "Epoch 3/50\n",
      " - 25s - loss: 0.4608 - acc: 0.9443 - val_loss: 0.6356 - val_acc: 0.6519\n",
      "Epoch 4/50\n",
      " - 28s - loss: 0.3049 - acc: 0.9703 - val_loss: 0.6769 - val_acc: 0.4889\n",
      "Epoch 5/50\n",
      " - 27s - loss: 0.1831 - acc: 0.9870 - val_loss: 0.6159 - val_acc: 0.6741\n",
      "Epoch 6/50\n",
      " - 26s - loss: 0.1130 - acc: 0.9870 - val_loss: 0.6140 - val_acc: 0.6593\n",
      "Epoch 7/50\n",
      " - 25s - loss: 0.0693 - acc: 0.9907 - val_loss: 0.6348 - val_acc: 0.6222\n",
      "Epoch 8/50\n",
      " - 25s - loss: 0.0534 - acc: 0.9926 - val_loss: 0.6655 - val_acc: 0.5259\n",
      "Epoch 9/50\n",
      " - 25s - loss: 0.0340 - acc: 0.9981 - val_loss: 0.6134 - val_acc: 0.6667\n",
      "Epoch 10/50\n",
      " - 26s - loss: 0.0318 - acc: 0.9963 - val_loss: 0.6765 - val_acc: 0.5704\n",
      "Epoch 11/50\n",
      " - 26s - loss: 0.0276 - acc: 0.9944 - val_loss: 0.7782 - val_acc: 0.4815\n",
      "Epoch 12/50\n",
      " - 27s - loss: 0.0266 - acc: 0.9963 - val_loss: 0.8845 - val_acc: 0.4593\n",
      "Epoch 13/50\n",
      " - 26s - loss: 0.0274 - acc: 0.9944 - val_loss: 0.6907 - val_acc: 0.6074\n",
      "Epoch 14/50\n",
      " - 26s - loss: 0.0297 - acc: 0.9944 - val_loss: 0.6251 - val_acc: 0.6815\n",
      "Epoch 15/50\n",
      " - 25s - loss: 0.0187 - acc: 0.9944 - val_loss: 0.7436 - val_acc: 0.4889\n",
      "Epoch 16/50\n",
      " - 28s - loss: 0.0202 - acc: 0.9944 - val_loss: 0.8807 - val_acc: 0.4741\n",
      "Epoch 17/50\n",
      " - 26s - loss: 0.0175 - acc: 0.9926 - val_loss: 0.7418 - val_acc: 0.5037\n",
      "Epoch 18/50\n",
      " - 28s - loss: 0.0170 - acc: 0.9963 - val_loss: 0.7635 - val_acc: 0.6519\n",
      "Epoch 19/50\n",
      " - 26s - loss: 0.0204 - acc: 0.9944 - val_loss: 0.6575 - val_acc: 0.6148\n",
      "Epoch 20/50\n",
      " - 25s - loss: 0.0188 - acc: 0.9963 - val_loss: 0.7607 - val_acc: 0.5037\n",
      "Epoch 21/50\n",
      " - 25s - loss: 0.0328 - acc: 0.9907 - val_loss: 0.9281 - val_acc: 0.6667\n",
      "Epoch 22/50\n",
      " - 28s - loss: 0.0080 - acc: 1.0000 - val_loss: 1.0290 - val_acc: 0.6593\n",
      "Epoch 23/50\n",
      " - 29s - loss: 0.0169 - acc: 0.9944 - val_loss: 0.6547 - val_acc: 0.6519\n",
      "Epoch 24/50\n",
      " - 26s - loss: 0.0223 - acc: 0.9963 - val_loss: 0.7227 - val_acc: 0.6593\n",
      "Epoch 25/50\n",
      " - 27s - loss: 0.0333 - acc: 0.9963 - val_loss: 0.7803 - val_acc: 0.5778\n",
      "Epoch 26/50\n",
      " - 28s - loss: 0.0364 - acc: 0.9944 - val_loss: 1.5168 - val_acc: 0.6667\n",
      "Epoch 27/50\n",
      " - 27s - loss: 0.0347 - acc: 0.9926 - val_loss: 0.8706 - val_acc: 0.4815\n",
      "Epoch 28/50\n",
      " - 27s - loss: 0.8075 - acc: 0.8182 - val_loss: 4.7113 - val_acc: 0.6444\n",
      "Epoch 29/50\n",
      " - 26s - loss: 1.1799 - acc: 0.8052 - val_loss: 1.6640 - val_acc: 0.4148\n",
      "Epoch 30/50\n",
      " - 27s - loss: 0.0584 - acc: 0.9722 - val_loss: 1.3937 - val_acc: 0.6667\n",
      "Epoch 31/50\n",
      " - 26s - loss: 0.0143 - acc: 0.9944 - val_loss: 1.0776 - val_acc: 0.4519\n",
      "Epoch 32/50\n",
      " - 26s - loss: 0.0084 - acc: 0.9963 - val_loss: 0.8247 - val_acc: 0.5259\n",
      "Epoch 33/50\n",
      " - 26s - loss: 0.0102 - acc: 0.9926 - val_loss: 0.8529 - val_acc: 0.5407\n",
      "Epoch 34/50\n",
      " - 25s - loss: 0.0080 - acc: 0.9963 - val_loss: 0.7655 - val_acc: 0.5407\n",
      "Epoch 35/50\n",
      " - 26s - loss: 0.0135 - acc: 0.9926 - val_loss: 0.7626 - val_acc: 0.5556\n",
      "Epoch 36/50\n",
      " - 27s - loss: 0.0074 - acc: 0.9963 - val_loss: 0.7845 - val_acc: 0.5407\n",
      "Epoch 37/50\n",
      " - 29s - loss: 0.0123 - acc: 0.9926 - val_loss: 0.7543 - val_acc: 0.5704\n",
      "Epoch 38/50\n",
      " - 28s - loss: 0.0077 - acc: 0.9963 - val_loss: 0.7496 - val_acc: 0.5852\n",
      "Epoch 39/50\n",
      " - 26s - loss: 0.0099 - acc: 0.9963 - val_loss: 0.7493 - val_acc: 0.5778\n",
      "Epoch 40/50\n",
      " - 25s - loss: 0.0099 - acc: 0.9944 - val_loss: 0.7535 - val_acc: 0.5852\n",
      "Epoch 41/50\n",
      " - 24s - loss: 0.0132 - acc: 0.9944 - val_loss: 0.7518 - val_acc: 0.6519\n",
      "Epoch 42/50\n",
      " - 25s - loss: 0.0071 - acc: 0.9963 - val_loss: 0.7730 - val_acc: 0.5556\n",
      "Epoch 43/50\n",
      " - 26s - loss: 0.0129 - acc: 0.9963 - val_loss: 0.7572 - val_acc: 0.6444\n",
      "Epoch 44/50\n",
      " - 26s - loss: 0.0135 - acc: 0.9963 - val_loss: 0.7916 - val_acc: 0.5333\n",
      "Epoch 45/50\n",
      " - 25s - loss: 0.0084 - acc: 0.9963 - val_loss: 0.7409 - val_acc: 0.6000\n",
      "Epoch 46/50\n",
      " - 25s - loss: 0.0145 - acc: 0.9944 - val_loss: 0.8583 - val_acc: 0.5259\n",
      "Epoch 47/50\n",
      " - 25s - loss: 0.0056 - acc: 0.9963 - val_loss: 0.8467 - val_acc: 0.6593\n",
      "Epoch 48/50\n",
      " - 25s - loss: 0.0162 - acc: 0.9963 - val_loss: 0.8015 - val_acc: 0.5259\n",
      "Epoch 49/50\n",
      " - 25s - loss: 0.0135 - acc: 0.9944 - val_loss: 0.7538 - val_acc: 0.5630\n",
      "Epoch 50/50\n",
      " - 25s - loss: 0.0108 - acc: 0.9963 - val_loss: 0.7415 - val_acc: 0.6148\n"
     ]
    }
   ],
   "source": [
    "from keras.layers.convolutional import Conv1D, MaxPooling1D\n",
    "from keras.layers import Flatten, Dropout\n",
    "from keras.callbacks import EarlyStopping\n",
    "#Architecture 3\n",
    "model = Sequential()\n",
    "model.add(Embedding(vocab_size, EMBEDDING_DIM, input_length=max_length, trainable = False))\n",
    "model.add(Dropout(0.1))\n",
    "model.add(Conv1D(filters=256, kernel_size=5, activation='relu'))\n",
    "model.add(Dropout(0.2))\n",
    "model.add(MaxPooling1D(pool_size=2))\n",
    "model.add(Dropout(0.2))\n",
    "model.add(Flatten())\n",
    "model.add(Dense(1, activation='sigmoid'))\n",
    "\n",
    "# compile network\n",
    "model.compile(loss='binary_crossentropy', optimizer='adam', metrics=['accuracy'])\n",
    "\n",
    "# simple early stopping\n",
    "es = EarlyStopping(monitor='val_loss', mode='min', verbose=1)\n",
    "\n",
    "# fit the model\n",
    "history = model.fit(X_train_pad, y_train, batch_size=32, epochs=50, validation_data=(X_test_pad, y_test), verbose=2)"
   ]
  },
  {
   "cell_type": "code",
   "execution_count": 78,
   "metadata": {},
   "outputs": [
    {
     "data": {
      "text/plain": [
       "<matplotlib.legend.Legend at 0x1857f4240>"
      ]
     },
     "execution_count": 78,
     "metadata": {},
     "output_type": "execute_result"
    },
    {
     "data": {
      "image/png": "[encoded data removed]",
      "text/plain": [
       "<Figure size 432x288 with 1 Axes>"
      ]
     },
     "metadata": {},
     "output_type": "display_data"
    }
   ],
   "source": [
    "plt.plot(history.history['acc'])\n",
    "plt.plot(history.history['val_acc'])\n",
    "plt.title('model accuracy')\n",
    "plt.ylabel('accuracy')\n",
    "plt.xlabel('epoch')\n",
    "plt.legend(['train', 'test'], loc='upper left')"
   ]
  },
  {
   "cell_type": "markdown",
   "metadata": {},
   "source": [
    "# Word2Vec Model"
   ]
  },
  {
   "cell_type": "code",
   "execution_count": 9,
   "metadata": {},
   "outputs": [],
   "source": [
    "import string\n",
    "from nltk.tokenize import word_tokenize\n",
    "from nltk.corpus import stopwords\n",
    "\n",
    "review_lines = list()\n",
    "lines = all_company['liststring'].values.tolist()\n",
    "\n",
    "for line in lines:   \n",
    "    tokens = word_tokenize(line)\n",
    "    # convert to lower case\n",
    "    tokens = [w.lower() for w in tokens]\n",
    "    # remove punctuation from each word    \n",
    "    table = str.maketrans('', '', string.punctuation)\n",
    "    stripped = [w.translate(table) for w in tokens]\n",
    "    # remove remaining tokens that are not alphabetic\n",
    "    words = [word for word in stripped if word.isalpha()]\n",
    "    # filter out stop words    \n",
    "    stop_words = set(stopwords.words('english'))\n",
    "    words = [w for w in words if not w in stop_words]\n",
    "    review_lines.append(words)"
   ]
  },
  {
   "cell_type": "code",
   "execution_count": 10,
   "metadata": {},
   "outputs": [
    {
     "data": {
      "text/plain": [
       "543"
      ]
     },
     "execution_count": 10,
     "metadata": {},
     "output_type": "execute_result"
    }
   ],
   "source": [
    "len(review_lines)"
   ]
  },
  {
   "cell_type": "code",
   "execution_count": 12,
   "metadata": {},
   "outputs": [
    {
     "name": "stdout",
     "output_type": "stream",
     "text": [
      "Vocabulary size: 68128\n"
     ]
    }
   ],
   "source": [
    "import gensim \n",
    "\n",
    "EMBEDDING_DIM = 100\n",
    "# train word2vec model\n",
    "model = gensim.models.Word2Vec(sentences=review_lines, size=EMBEDDING_DIM, window=5, workers=4, min_count=1)\n",
    "# vocab size\n",
    "words = list(model.wv.vocab)\n",
    "print('Vocabulary size: %d' % len(words))"
   ]
  },
  {
   "cell_type": "code",
   "execution_count": 13,
   "metadata": {},
   "outputs": [
    {
     "name": "stderr",
     "output_type": "stream",
     "text": [
      "/usr/local/lib/python3.6/site-packages/smart_open/smart_open_lib.py:398: UserWarning: This function is deprecated, use smart_open.open instead. See the migration notes for details: https://github.com/RaRe-Technologies/smart_open/blob/master/README.rst#migrating-to-the-new-open-function\n",
      "  'See the migration notes for details: %s' % _MIGRATION_NOTES_URL\n"
     ]
    }
   ],
   "source": [
    "# save model in ASCII (word2vec) format\n",
    "filename = 'nyt_embedding_word2vec.txt'\n",
    "model.wv.save_word2vec_format(filename, binary=False)"
   ]
  },
  {
   "cell_type": "code",
   "execution_count": 14,
   "metadata": {},
   "outputs": [
    {
     "data": {
      "text/plain": [
       "[('although', 0.7747249603271484),\n",
       " ('done', 0.7618248462677002),\n",
       " ('task', 0.752723217010498),\n",
       " ('added', 0.7519810199737549),\n",
       " ('figure', 0.7475916147232056),\n",
       " ('needed', 0.7335801720619202),\n",
       " ('idea', 0.7313542366027832),\n",
       " ('work', 0.7293825149536133),\n",
       " ('success', 0.7269136905670166),\n",
       " ('really', 0.7243425846099854)]"
      ]
     },
     "execution_count": 14,
     "metadata": {},
     "output_type": "execute_result"
    }
   ],
   "source": [
    "model.wv.most_similar('job')#, topn =1)"
   ]
  },
  {
   "cell_type": "code",
   "execution_count": 18,
   "metadata": {},
   "outputs": [
    {
     "data": {
      "text/plain": [
       "[('devoted', 0.7465667724609375),\n",
       " ('english', 0.7300233840942383),\n",
       " ('art', 0.7210599184036255),\n",
       " ('trounced', 0.7112534642219543),\n",
       " ('museums', 0.7071324586868286),\n",
       " ('unreason', 0.7064419984817505),\n",
       " ('african', 0.7013242244720459),\n",
       " ('mass', 0.7007205486297607),\n",
       " ('heritage', 0.6940369606018066),\n",
       " ('novelists', 0.6925702095031738)]"
      ]
     },
     "execution_count": 18,
     "metadata": {},
     "output_type": "execute_result"
    }
   ],
   "source": [
    "model.wv.most_similar('history')#, topn =1)"
   ]
  },
  {
   "cell_type": "code",
   "execution_count": 21,
   "metadata": {},
   "outputs": [],
   "source": [
    "import os\n",
    "import numpy as np\n",
    "embeddings_index = {}\n",
    "f = open(os.path.join('', 'nyt_embedding_word2vec.txt'),  encoding = \"utf-8\")\n",
    "for line in f:\n",
    "    values = line.split()\n",
    "    word = values[0]\n",
    "    coefs = np.asarray(values[1:])\n",
    "    embeddings_index[word] = coefs\n",
    "f.close()"
   ]
  },
  {
   "cell_type": "code",
   "execution_count": 28,
   "metadata": {},
   "outputs": [
    {
     "name": "stdout",
     "output_type": "stream",
     "text": [
      "Found 68128 unique tokens.\n",
      "Shape of review tensor: (543, 5000)\n",
      "Shape of sentiment tensor: (543,)\n"
     ]
    }
   ],
   "source": [
    "from tensorflow.python.keras.preprocessing.text import Tokenizer\n",
    "from tensorflow.python.keras.preprocessing.sequence import pad_sequences\n",
    "\n",
    "max_length = 5000\n",
    "VALIDATION_SPLIT = 0.2\n",
    "\n",
    "# vectorize the text samples into a 2D integer tensor\n",
    "tokenizer_obj = Tokenizer()\n",
    "tokenizer_obj.fit_on_texts(review_lines)\n",
    "sequences = tokenizer_obj.texts_to_sequences(review_lines)\n",
    "\n",
    "# pad sequences\n",
    "word_index = tokenizer_obj.word_index\n",
    "print('Found %s unique tokens.' % len(word_index))\n",
    "\n",
    "review_pad = pad_sequences(sequences, maxlen=max_length)\n",
    "sentiment =  all_company['delta'].values\n",
    "print('Shape of review tensor:', review_pad.shape)\n",
    "print('Shape of sentiment tensor:', sentiment.shape)\n",
    "\n",
    "# split the data into a training set and a validation set\n",
    "indices = np.arange(review_pad.shape[0])\n",
    "np.random.shuffle(indices)\n",
    "review_pad = review_pad[indices]\n",
    "sentiment = sentiment[indices]\n",
    "num_validation_samples = int(VALIDATION_SPLIT * review_pad.shape[0])\n",
    "\n",
    "X_train_pad = review_pad[:-num_validation_samples]\n",
    "y_train = sentiment[:-num_validation_samples]\n",
    "X_test_pad = review_pad[-num_validation_samples:]\n",
    "y_test = sentiment[-num_validation_samples:]"
   ]
  },
  {
   "cell_type": "code",
   "execution_count": 30,
   "metadata": {},
   "outputs": [],
   "source": [
    "EMBEDDING_DIM =100\n",
    "num_words = len(word_index) + 1\n",
    "embedding_matrix = np.zeros((num_words, EMBEDDING_DIM))\n",
    "\n",
    "for word, i in word_index.items():\n",
    "    if i > num_words:\n",
    "        continue\n",
    "    embedding_vector = embeddings_index.get(word)\n",
    "    if embedding_vector is not None:\n",
    "        # words not found in embedding index will be all-zeros.\n",
    "        embedding_matrix[i] = embedding_vector"
   ]
  },
  {
   "cell_type": "code",
   "execution_count": 31,
   "metadata": {},
   "outputs": [
    {
     "name": "stdout",
     "output_type": "stream",
     "text": [
      "68129\n"
     ]
    }
   ],
   "source": [
    "print(num_words)"
   ]
  },
  {
   "cell_type": "code",
   "execution_count": 34,
   "metadata": {},
   "outputs": [],
   "source": [
    "from keras.models import Sequential\n",
    "from keras.layers import Dense, Embedding, LSTM, GRU\n",
    "from keras.layers.embeddings import Embedding\n",
    "from keras.initializers import Constant\n",
    "\n",
    "# define model\n",
    "model = Sequential()\n",
    "embedding_layer = Embedding(num_words,\n",
    "                            EMBEDDING_DIM,\n",
    "                            embeddings_initializer=Constant(embedding_matrix),\n",
    "                            input_length=max_length,\n",
    "                            trainable=False)\n",
    "model.add(embedding_layer)\n",
    "model.add(GRU(units=32,  dropout=0.2, recurrent_dropout=0.2))\n",
    "model.add(Dense(1, activation='sigmoid'))\n",
    "\n",
    "# try using different optimizers and different optimizer configs\n",
    "model.compile(loss='binary_crossentropy', optimizer='adam', metrics=['accuracy'])"
   ]
  },
  {
   "cell_type": "code",
   "execution_count": 35,
   "metadata": {},
   "outputs": [
    {
     "name": "stdout",
     "output_type": "stream",
     "text": [
      "Train on 435 samples, validate on 108 samples\n",
      "Epoch 1/25\n",
      " - 21s - loss: 0.5141 - acc: 0.0000e+00 - val_loss: 1.0873 - val_acc: 0.0000e+00\n",
      "Epoch 2/25\n"
     ]
    },
    {
     "ename": "KeyboardInterrupt",
     "evalue": "",
     "output_type": "error",
     "traceback": [
      "\u001b[0;31m----------------------------------------------------------------------\u001b[0m",
      "\u001b[0;31mKeyboardInterrupt\u001b[0m                    Traceback (most recent call last)",
      "\u001b[0;32m<ipython-input-35-2ec6264dc448>\u001b[0m in \u001b[0;36m<module>\u001b[0;34m()\u001b[0m\n\u001b[0;32m----> 1\u001b[0;31m \u001b[0mmodel\u001b[0m\u001b[0;34m.\u001b[0m\u001b[0mfit\u001b[0m\u001b[0;34m(\u001b[0m\u001b[0mX_train_pad\u001b[0m\u001b[0;34m,\u001b[0m \u001b[0my_train\u001b[0m\u001b[0;34m,\u001b[0m \u001b[0mbatch_size\u001b[0m\u001b[0;34m=\u001b[0m\u001b[0;36m128\u001b[0m\u001b[0;34m,\u001b[0m \u001b[0mepochs\u001b[0m\u001b[0;34m=\u001b[0m\u001b[0;36m25\u001b[0m\u001b[0;34m,\u001b[0m \u001b[0mvalidation_data\u001b[0m\u001b[0;34m=\u001b[0m\u001b[0;34m(\u001b[0m\u001b[0mX_test_pad\u001b[0m\u001b[0;34m,\u001b[0m \u001b[0my_test\u001b[0m\u001b[0;34m)\u001b[0m\u001b[0;34m,\u001b[0m \u001b[0mverbose\u001b[0m\u001b[0;34m=\u001b[0m\u001b[0;36m2\u001b[0m\u001b[0;34m)\u001b[0m\u001b[0;34m\u001b[0m\u001b[0m\n\u001b[0m",
      "\u001b[0;32m/usr/local/lib/python3.6/site-packages/keras/engine/training.py\u001b[0m in \u001b[0;36mfit\u001b[0;34m(self, x, y, batch_size, epochs, verbose, callbacks, validation_split, validation_data, shuffle, class_weight, sample_weight, initial_epoch, steps_per_epoch, validation_steps, **kwargs)\u001b[0m\n\u001b[1;32m   1037\u001b[0m                                         \u001b[0minitial_epoch\u001b[0m\u001b[0;34m=\u001b[0m\u001b[0minitial_epoch\u001b[0m\u001b[0;34m,\u001b[0m\u001b[0;34m\u001b[0m\u001b[0m\n\u001b[1;32m   1038\u001b[0m                                         \u001b[0msteps_per_epoch\u001b[0m\u001b[0;34m=\u001b[0m\u001b[0msteps_per_epoch\u001b[0m\u001b[0;34m,\u001b[0m\u001b[0;34m\u001b[0m\u001b[0m\n\u001b[0;32m-> 1039\u001b[0;31m                                         validation_steps=validation_steps)\n\u001b[0m\u001b[1;32m   1040\u001b[0m \u001b[0;34m\u001b[0m\u001b[0m\n\u001b[1;32m   1041\u001b[0m     def evaluate(self, x=None, y=None,\n",
      "\u001b[0;32m/usr/local/lib/python3.6/site-packages/keras/engine/training_arrays.py\u001b[0m in \u001b[0;36mfit_loop\u001b[0;34m(model, f, ins, out_labels, batch_size, epochs, verbose, callbacks, val_f, val_ins, shuffle, callback_metrics, initial_epoch, steps_per_epoch, validation_steps)\u001b[0m\n\u001b[1;32m    197\u001b[0m                     \u001b[0mins_batch\u001b[0m\u001b[0;34m[\u001b[0m\u001b[0mi\u001b[0m\u001b[0;34m]\u001b[0m \u001b[0;34m=\u001b[0m \u001b[0mins_batch\u001b[0m\u001b[0;34m[\u001b[0m\u001b[0mi\u001b[0m\u001b[0;34m]\u001b[0m\u001b[0;34m.\u001b[0m\u001b[0mtoarray\u001b[0m\u001b[0;34m(\u001b[0m\u001b[0;34m)\u001b[0m\u001b[0;34m\u001b[0m\u001b[0m\n\u001b[1;32m    198\u001b[0m \u001b[0;34m\u001b[0m\u001b[0m\n\u001b[0;32m--> 199\u001b[0;31m                 \u001b[0mouts\u001b[0m \u001b[0;34m=\u001b[0m \u001b[0mf\u001b[0m\u001b[0;34m(\u001b[0m\u001b[0mins_batch\u001b[0m\u001b[0;34m)\u001b[0m\u001b[0;34m\u001b[0m\u001b[0m\n\u001b[0m\u001b[1;32m    200\u001b[0m                 \u001b[0mouts\u001b[0m \u001b[0;34m=\u001b[0m \u001b[0mto_list\u001b[0m\u001b[0;34m(\u001b[0m\u001b[0mouts\u001b[0m\u001b[0;34m)\u001b[0m\u001b[0;34m\u001b[0m\u001b[0m\n\u001b[1;32m    201\u001b[0m                 \u001b[0;32mfor\u001b[0m \u001b[0ml\u001b[0m\u001b[0;34m,\u001b[0m \u001b[0mo\u001b[0m \u001b[0;32min\u001b[0m \u001b[0mzip\u001b[0m\u001b[0;34m(\u001b[0m\u001b[0mout_labels\u001b[0m\u001b[0;34m,\u001b[0m \u001b[0mouts\u001b[0m\u001b[0;34m)\u001b[0m\u001b[0;34m:\u001b[0m\u001b[0;34m\u001b[0m\u001b[0m\n",
      "\u001b[0;32m/usr/local/lib/python3.6/site-packages/keras/backend/tensorflow_backend.py\u001b[0m in \u001b[0;36m__call__\u001b[0;34m(self, inputs)\u001b[0m\n\u001b[1;32m   2713\u001b[0m                 \u001b[0;32mreturn\u001b[0m \u001b[0mself\u001b[0m\u001b[0;34m.\u001b[0m\u001b[0m_legacy_call\u001b[0m\u001b[0;34m(\u001b[0m\u001b[0minputs\u001b[0m\u001b[0;34m)\u001b[0m\u001b[0;34m\u001b[0m\u001b[0m\n\u001b[1;32m   2714\u001b[0m \u001b[0;34m\u001b[0m\u001b[0m\n\u001b[0;32m-> 2715\u001b[0;31m             \u001b[0;32mreturn\u001b[0m \u001b[0mself\u001b[0m\u001b[0;34m.\u001b[0m\u001b[0m_call\u001b[0m\u001b[0;34m(\u001b[0m\u001b[0minputs\u001b[0m\u001b[0;34m)\u001b[0m\u001b[0;34m\u001b[0m\u001b[0m\n\u001b[0m\u001b[1;32m   2716\u001b[0m         \u001b[0;32melse\u001b[0m\u001b[0;34m:\u001b[0m\u001b[0;34m\u001b[0m\u001b[0m\n\u001b[1;32m   2717\u001b[0m             \u001b[0;32mif\u001b[0m \u001b[0mpy_any\u001b[0m\u001b[0;34m(\u001b[0m\u001b[0mis_tensor\u001b[0m\u001b[0;34m(\u001b[0m\u001b[0mx\u001b[0m\u001b[0;34m)\u001b[0m \u001b[0;32mfor\u001b[0m \u001b[0mx\u001b[0m \u001b[0;32min\u001b[0m \u001b[0minputs\u001b[0m\u001b[0;34m)\u001b[0m\u001b[0;34m:\u001b[0m\u001b[0;34m\u001b[0m\u001b[0m\n",
      "\u001b[0;32m/usr/local/lib/python3.6/site-packages/keras/backend/tensorflow_backend.py\u001b[0m in \u001b[0;36m_call\u001b[0;34m(self, inputs)\u001b[0m\n\u001b[1;32m   2673\u001b[0m             \u001b[0mfetched\u001b[0m \u001b[0;34m=\u001b[0m \u001b[0mself\u001b[0m\u001b[0;34m.\u001b[0m\u001b[0m_callable_fn\u001b[0m\u001b[0;34m(\u001b[0m\u001b[0;34m*\u001b[0m\u001b[0marray_vals\u001b[0m\u001b[0;34m,\u001b[0m \u001b[0mrun_metadata\u001b[0m\u001b[0;34m=\u001b[0m\u001b[0mself\u001b[0m\u001b[0;34m.\u001b[0m\u001b[0mrun_metadata\u001b[0m\u001b[0;34m)\u001b[0m\u001b[0;34m\u001b[0m\u001b[0m\n\u001b[1;32m   2674\u001b[0m         \u001b[0;32melse\u001b[0m\u001b[0;34m:\u001b[0m\u001b[0;34m\u001b[0m\u001b[0m\n\u001b[0;32m-> 2675\u001b[0;31m             \u001b[0mfetched\u001b[0m \u001b[0;34m=\u001b[0m \u001b[0mself\u001b[0m\u001b[0;34m.\u001b[0m\u001b[0m_callable_fn\u001b[0m\u001b[0;34m(\u001b[0m\u001b[0;34m*\u001b[0m\u001b[0marray_vals\u001b[0m\u001b[0;34m)\u001b[0m\u001b[0;34m\u001b[0m\u001b[0m\n\u001b[0m\u001b[1;32m   2676\u001b[0m         \u001b[0;32mreturn\u001b[0m \u001b[0mfetched\u001b[0m\u001b[0;34m[\u001b[0m\u001b[0;34m:\u001b[0m\u001b[0mlen\u001b[0m\u001b[0;34m(\u001b[0m\u001b[0mself\u001b[0m\u001b[0;34m.\u001b[0m\u001b[0moutputs\u001b[0m\u001b[0;34m)\u001b[0m\u001b[0;34m]\u001b[0m\u001b[0;34m\u001b[0m\u001b[0m\n\u001b[1;32m   2677\u001b[0m \u001b[0;34m\u001b[0m\u001b[0m\n",
      "\u001b[0;32m/usr/local/lib/python3.6/site-packages/tensorflow/python/client/session.py\u001b[0m in \u001b[0;36m__call__\u001b[0;34m(self, *args, **kwargs)\u001b[0m\n\u001b[1;32m   1456\u001b[0m         ret = tf_session.TF_SessionRunCallable(self._session._session,\n\u001b[1;32m   1457\u001b[0m                                                \u001b[0mself\u001b[0m\u001b[0;34m.\u001b[0m\u001b[0m_handle\u001b[0m\u001b[0;34m,\u001b[0m \u001b[0margs\u001b[0m\u001b[0;34m,\u001b[0m\u001b[0;34m\u001b[0m\u001b[0m\n\u001b[0;32m-> 1458\u001b[0;31m                                                run_metadata_ptr)\n\u001b[0m\u001b[1;32m   1459\u001b[0m         \u001b[0;32mif\u001b[0m \u001b[0mrun_metadata\u001b[0m\u001b[0;34m:\u001b[0m\u001b[0;34m\u001b[0m\u001b[0m\n\u001b[1;32m   1460\u001b[0m           \u001b[0mproto_data\u001b[0m \u001b[0;34m=\u001b[0m \u001b[0mtf_session\u001b[0m\u001b[0;34m.\u001b[0m\u001b[0mTF_GetBuffer\u001b[0m\u001b[0;34m(\u001b[0m\u001b[0mrun_metadata_ptr\u001b[0m\u001b[0;34m)\u001b[0m\u001b[0;34m\u001b[0m\u001b[0m\n",
      "\u001b[0;31mKeyboardInterrupt\u001b[0m: "
     ]
    }
   ],
   "source": [
    "model.fit(X_train_pad, y_train, batch_size=128, epochs=25, validation_data=(X_test_pad, y_test), verbose=2)"
   ]
  },
  {
   "cell_type": "code",
   "execution_count": null,
   "metadata": {},
   "outputs": [],
   "source": []
  }
 ],
 "metadata": {
  "kernelspec": {
   "display_name": "Python 3",
   "language": "python",
   "name": "python3"
  },
  "language_info": {
   "codemirror_mode": {
    "name": "ipython",
    "version": 3
   },
   "file_extension": ".py",
   "mimetype": "text/x-python",
   "name": "python",
   "nbconvert_exporter": "python",
   "pygments_lexer": "ipython3",
   "version": "3.6.5"
  },
  "toc": {
   "base_numbering": 1,
   "nav_menu": {},
   "number_sections": true,
   "sideBar": true,
   "skip_h1_title": false,
   "title_cell": "Table of Contents",
   "title_sidebar": "Contents",
   "toc_cell": false,
   "toc_position": {},
   "toc_section_display": true,
   "toc_window_display": false
  }
 },
 "nbformat": 4,
 "nbformat_minor": 2
}
