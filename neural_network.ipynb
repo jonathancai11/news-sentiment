{
 "cells": [
  {
   "cell_type": "markdown",
   "metadata": {},
   "source": [
    "# Exploratory Data Analysis\n",
    "In this notebook, we use the functions we've written in various notebooks to explore how our models' analysis on news sentiment actually compares with changes in stock prices."
   ]
  },
  {
   "cell_type": "code",
   "execution_count": 8,
   "metadata": {},
   "outputs": [],
   "source": [
    "from tensorflow.python.keras.preprocessing.text import Tokenizer\n",
    "from tensorflow.python.keras.preprocessing.sequence import pad_sequences\n",
    "from sklearn.model_selection import train_test_split\n",
    "import compare_sentiment as comp_sent\n",
    "import pandas as pd\n",
    "import matplotlib.pyplot as plt\n",
    "from keras.models import Sequential\n",
    "from keras.layers import Dense, Embedding, LSTM, GRU\n",
    "from keras.layers.embeddings import Embedding\n",
    "from keras.layers.convolutional import Conv1D, MaxPooling1D\n",
    "from keras.layers import Flatten, Dropout\n",
    "from keras.callbacks import EarlyStopping"
   ]
  },
  {
   "cell_type": "markdown",
   "metadata": {},
   "source": [
    "# Concat All Data"
   ]
  },
  {
   "cell_type": "code",
   "execution_count": 10,
   "metadata": {},
   "outputs": [],
   "source": [
    "#Get Data\n",
    "google = comp_sent.collapse_articles(data_source = \"./data-mine/data/google-data.pkl\", stockName = \"GOOG\", \n",
    "                      time_before = '2018-09-27', time_after = '2019-05-17')\n",
    "apple = comp_sent.collapse_articles(data_source = \"./data-mine/data/apple-data.pkl\", stockName = \"AAPL\", \n",
    "                      time_before = '2018-09-27', time_after = '2019-05-17')\n",
    "tesla = comp_sent.collapse_articles(data_source = \"./data-mine/data/tesla-data.pkl\", stockName = \"TSLA\", \n",
    "                      time_before = '2018-09-27', time_after = '2019-05-17')\n",
    "micro = comp_sent.collapse_articles(data_source = \"./data-mine/data/Microsoft-data.pkl\", stockName = \"MSFT\", \n",
    "                      time_before = '2018-09-27', time_after = '2019-05-17')\n",
    "amazon = comp_sent.collapse_articles(data_source = \"./data-mine/data/amazon-data.pkl\", stockName = \"AMZN\", \n",
    "                      time_before = '2018-09-27', time_after = '2019-05-17')"
   ]
  },
  {
   "cell_type": "code",
   "execution_count": 27,
   "metadata": {},
   "outputs": [],
   "source": [
    "# ibm = comp_sent.collapse_articles(data_source = \"./data-mine/data/IBM-pages=200-data.pkl\", stockName = \"IBM\", \n",
    "#                       time_before = '2018-09-27', time_after = '2019-05-17')\n",
    "# walmart = comp_sent.collapse_articles(data_source = \"./data-mine/data/Walmart-pages=200-data.pkl\", stockName = \"WMT\", \n",
    "#                       time_before = '2018-09-27', time_after = '2019-05-17')\n",
    "# shell = comp_sent.collapse_articles(data_source = \"./data-mine/data/Shell-pages=200-data.pkl\", stockName = \"RDS.A\", \n",
    "#                       time_before = '2018-09-27', time_after = '2019-05-17')"
   ]
  },
  {
   "cell_type": "code",
   "execution_count": 28,
   "metadata": {},
   "outputs": [],
   "source": [
    "all_company = pd.concat([google, apple, tesla, micro, amazon])"
   ]
  },
  {
   "cell_type": "code",
   "execution_count": 29,
   "metadata": {},
   "outputs": [],
   "source": [
    "all_company['liststring'] = all_company['liststring'].apply(lambda x : x.replace(\",\" , \" \"))"
   ]
  },
  {
   "cell_type": "code",
   "execution_count": 30,
   "metadata": {},
   "outputs": [],
   "source": [
    "all_company['increase'] = (all_company['delta'] >= 0).astype(\"int\")"
   ]
  },
  {
   "cell_type": "markdown",
   "metadata": {},
   "source": [
    "# Word Embedding Model"
   ]
  },
  {
   "cell_type": "code",
   "execution_count": 32,
   "metadata": {},
   "outputs": [],
   "source": [
    "#Tokenize the words\n",
    "def tokenize(X_train, X_test, all_company):\n",
    "    tokenizer = Tokenizer()\n",
    "    tokenizer.fit_on_texts(all_company['liststring'])\n",
    "\n",
    "    # max_length = max([len(s.split()) for s in all_company['liststring']])\n",
    "    max_length = 3000\n",
    "    vocab_size = len(tokenizer.word_index) + 1\n",
    "\n",
    "    X_train_tokens =  tokenizer.texts_to_sequences(X_train)\n",
    "    X_test_tokens = tokenizer.texts_to_sequences(X_test)\n",
    "\n",
    "    X_train_pad = pad_sequences(X_train_tokens, maxlen=max_length, padding='post')\n",
    "    X_test_pad = pad_sequences(X_test_tokens, maxlen=max_length, padding='post')\n",
    "    \n",
    "    return (X_train_pad, X_test_pad, max_length, vocab_size)"
   ]
  },
  {
   "cell_type": "code",
   "execution_count": 33,
   "metadata": {},
   "outputs": [],
   "source": [
    "#Architecture 1\n",
    "def embed_model(vocab_size, max_length, binary = True):\n",
    "    EMBEDDING_DIM = 100\n",
    "    model = Sequential()\n",
    "    model.add(Embedding(vocab_size, EMBEDDING_DIM, input_length=max_length))\n",
    "    model.add(GRU(units=128,  dropout=0.2, recurrent_dropout=0.2))\n",
    "    \n",
    "    # try using different optimizers and different optimizer configs\n",
    "    if (binary):\n",
    "        print('binary')\n",
    "        model.add(Dense(1, activation='sigmoid'))\n",
    "        model.compile(loss='binary_crossentropy', optimizer='adam',  metrics=['accuracy'])\n",
    "    else:\n",
    "        print('non-binary')\n",
    "        model.add(Dense(1, activation='relu'))\n",
    "        model.compile(loss='mean_squared_error', optimizer='adam',  metrics=['mse', 'mae'])\n",
    "    return model"
   ]
  },
  {
   "cell_type": "code",
   "execution_count": 36,
   "metadata": {},
   "outputs": [],
   "source": [
    "#Architecture 2\n",
    "def embed_model2(vocab_size, max_length, binary = True):\n",
    "    EMBEDDING_DIM = 100\n",
    "    model = Sequential()\n",
    "    model.add(Embedding(vocab_size, EMBEDDING_DIM, input_length=max_length, trainable = False))\n",
    "    model.add(Conv1D(filters=128, kernel_size=5, activation='relu'))\n",
    "    model.add(Dropout(0.2))\n",
    "    model.add(MaxPooling1D(pool_size=2))\n",
    "    model.add(Dropout(0.2))\n",
    "    model.add(Flatten())\n",
    "    \n",
    "    # simple early stopping\n",
    "    es = EarlyStopping(monitor='val_loss', mode='min', verbose=1)\n",
    "    \n",
    "    if (binary):\n",
    "        model.add(Dense(1, activation='sigmoid'))\n",
    "        model.compile(loss='binary_crossentropy', optimizer='adam',  metrics=['accuracy'])\n",
    "        print('binary')\n",
    "    else:\n",
    "        model.add(Dense(1, activation='relu'))\n",
    "        model.compile(loss='mean_squared_error', optimizer='adam', metrics=['mse', 'mae'])\n",
    "        print('non-binary')\n",
    "        \n",
    "        \n",
    "    return model"
   ]
  },
  {
   "cell_type": "code",
   "execution_count": 46,
   "metadata": {},
   "outputs": [],
   "source": [
    "def plot_history(history, path):\n",
    "    \"\"\"\n",
    "    This function plots the accuracies and losses over epochs given a neural network model.\n",
    "    Params:\n",
    "        history - an object returned from model.fit (from a Keras classifier)\n",
    "        path - the path to save the photos\n",
    "    Return:\n",
    "        1 png files that show the accurarcies\n",
    "    \"\"\"\n",
    "    # Plot accuracy\n",
    "    plt.plot(history.history['acc'])\n",
    "    plt.plot(history.history['val_acc'])\n",
    "    plt.title('model accuracy')\n",
    "    plt.ylabel('accuracy')\n",
    "    plt.xlabel('epoch')\n",
    "    plt.legend(['train', 'test'], loc='upper left')\n",
    "    plt.savefig(path)\n",
    "    plt.close()\n",
    "\n",
    "    return"
   ]
  },
  {
   "cell_type": "markdown",
   "metadata": {},
   "source": [
    "## Binary Classification"
   ]
  },
  {
   "cell_type": "code",
   "execution_count": 37,
   "metadata": {},
   "outputs": [],
   "source": [
    "#Train test split\n",
    "#USE all_company['increase'] for Y if BINARY. \n",
    "#USE all_company['delta'] for Y if REGRESSION.\n",
    "X_train, X_test, y_train, y_test = train_test_split(all_company['liststring'], all_company['increase'], test_size=0.20, random_state=42)\n",
    "X_train_pad, X_test_pad, max_length, vocab_size = tokenize(X_train, X_test, all_company)"
   ]
  },
  {
   "cell_type": "code",
   "execution_count": 40,
   "metadata": {},
   "outputs": [
    {
     "name": "stdout",
     "output_type": "stream",
     "text": [
      "binary\n",
      "Train on 539 samples, validate on 135 samples\n",
      "Epoch 1/25\n",
      " - 11s - loss: 0.7849 - acc: 0.4917 - val_loss: 0.6390 - val_acc: 0.6667\n",
      "Epoch 2/25\n",
      " - 8s - loss: 0.6737 - acc: 0.5714 - val_loss: 0.7837 - val_acc: 0.3333\n",
      "Epoch 3/25\n",
      " - 8s - loss: 0.6385 - acc: 0.5807 - val_loss: 0.6493 - val_acc: 0.6741\n",
      "Epoch 4/25\n",
      " - 8s - loss: 0.5805 - acc: 0.6438 - val_loss: 0.6716 - val_acc: 0.6889\n",
      "Epoch 5/25\n",
      " - 8s - loss: 0.5278 - acc: 0.9907 - val_loss: 0.6601 - val_acc: 0.7111\n",
      "Epoch 6/25\n",
      " - 8s - loss: 0.4738 - acc: 0.9740 - val_loss: 0.6409 - val_acc: 0.6889\n",
      "Epoch 7/25\n",
      " - 8s - loss: 0.4130 - acc: 0.9740 - val_loss: 0.7461 - val_acc: 0.4074\n",
      "Epoch 8/25\n",
      " - 8s - loss: 0.3641 - acc: 0.9647 - val_loss: 0.6139 - val_acc: 0.6815\n",
      "Epoch 9/25\n",
      " - 9s - loss: 0.3176 - acc: 0.9703 - val_loss: 0.6227 - val_acc: 0.6815\n",
      "Epoch 10/25\n",
      " - 9s - loss: 0.2528 - acc: 0.9907 - val_loss: 0.6926 - val_acc: 0.4519\n",
      "Epoch 11/25\n",
      " - 7s - loss: 0.2163 - acc: 0.9926 - val_loss: 0.7533 - val_acc: 0.4074\n",
      "Epoch 12/25\n",
      " - 7s - loss: 0.1790 - acc: 0.9870 - val_loss: 0.6424 - val_acc: 0.6000\n",
      "Epoch 13/25\n",
      " - 7s - loss: 0.1393 - acc: 0.9889 - val_loss: 0.6274 - val_acc: 0.6519\n",
      "Epoch 14/25\n",
      " - 7s - loss: 0.1173 - acc: 0.9944 - val_loss: 0.6345 - val_acc: 0.6296\n",
      "Epoch 15/25\n",
      " - 7s - loss: 0.0973 - acc: 0.9963 - val_loss: 0.7745 - val_acc: 0.4148\n",
      "Epoch 16/25\n",
      " - 7s - loss: 0.0864 - acc: 0.9963 - val_loss: 0.6519 - val_acc: 0.5556\n",
      "Epoch 17/25\n",
      " - 7s - loss: 0.0723 - acc: 0.9926 - val_loss: 0.6340 - val_acc: 0.6000\n",
      "Epoch 18/25\n",
      " - 7s - loss: 0.0588 - acc: 0.9963 - val_loss: 0.8033 - val_acc: 0.4074\n",
      "Epoch 19/25\n",
      " - 7s - loss: 0.0655 - acc: 0.9926 - val_loss: 0.7132 - val_acc: 0.4593\n",
      "Epoch 20/25\n",
      " - 7s - loss: 0.0532 - acc: 0.9926 - val_loss: 0.6674 - val_acc: 0.5630\n",
      "Epoch 21/25\n",
      " - 7s - loss: 0.0529 - acc: 0.9926 - val_loss: 0.6218 - val_acc: 0.6444\n",
      "Epoch 22/25\n",
      " - 7s - loss: 0.0488 - acc: 0.9944 - val_loss: 0.6338 - val_acc: 0.6889\n",
      "Epoch 23/25\n",
      " - 7s - loss: 0.0454 - acc: 0.9963 - val_loss: 0.6252 - val_acc: 0.6667\n",
      "Epoch 24/25\n",
      " - 7s - loss: 0.0358 - acc: 0.9944 - val_loss: 0.7091 - val_acc: 0.4815\n",
      "Epoch 25/25\n",
      " - 7s - loss: 0.0305 - acc: 0.9944 - val_loss: 0.6197 - val_acc: 0.7037\n"
     ]
    }
   ],
   "source": [
    "from keras.wrappers.scikit_learn import KerasClassifier\n",
    "estimator = KerasClassifier(build_fn = embed_model2, vocab_size = vocab_size, max_length = max_length, binary = True,\n",
    "                            epochs=25, batch_size=128, verbose=2)\n",
    "history = estimator.fit(X_train_pad, y_train, validation_data=(X_test_pad, y_test))"
   ]
  },
  {
   "cell_type": "code",
   "execution_count": 49,
   "metadata": {},
   "outputs": [],
   "source": [
    "plot_history(history, \"./img/acc_plot/model2_binary_1\")"
   ]
  },
  {
   "cell_type": "code",
   "execution_count": 52,
   "metadata": {},
   "outputs": [
    {
     "name": "stdout",
     "output_type": "stream",
     "text": [
      "binary\n",
      "Train on 539 samples, validate on 135 samples\n",
      "Epoch 1/25\n",
      " - 30s - loss: 0.6932 - acc: 0.5102 - val_loss: 0.6855 - val_acc: 0.6667\n",
      "Epoch 2/25\n",
      " - 29s - loss: 0.6870 - acc: 0.5547 - val_loss: 0.6855 - val_acc: 0.6889\n",
      "Epoch 3/25\n",
      " - 29s - loss: 0.6804 - acc: 0.6197 - val_loss: 0.6784 - val_acc: 0.6963\n",
      "Epoch 4/25\n",
      " - 30s - loss: 0.6666 - acc: 0.7069 - val_loss: 0.6729 - val_acc: 0.6444\n",
      "Epoch 5/25\n",
      " - 29s - loss: 0.6409 - acc: 0.7718 - val_loss: 0.6576 - val_acc: 0.6593\n",
      "Epoch 6/25\n",
      " - 30s - loss: 0.5931 - acc: 0.7755 - val_loss: 0.6416 - val_acc: 0.6667\n",
      "Epoch 7/25\n",
      " - 35s - loss: 0.5213 - acc: 0.7848 - val_loss: 0.7143 - val_acc: 0.5185\n",
      "Epoch 8/25\n",
      " - 35s - loss: 0.5037 - acc: 0.7996 - val_loss: 0.6684 - val_acc: 0.5852\n",
      "Epoch 9/25\n",
      " - 33s - loss: 0.4218 - acc: 0.7996 - val_loss: 0.6485 - val_acc: 0.6370\n",
      "Epoch 10/25\n",
      " - 33s - loss: 0.3757 - acc: 0.8237 - val_loss: 0.6638 - val_acc: 0.6370\n",
      "Epoch 11/25\n",
      " - 33s - loss: 0.3308 - acc: 0.8256 - val_loss: 0.7227 - val_acc: 0.5556\n",
      "Epoch 12/25\n",
      " - 31s - loss: 0.3111 - acc: 0.8145 - val_loss: 0.7668 - val_acc: 0.5407\n",
      "Epoch 13/25\n",
      " - 31s - loss: 0.2931 - acc: 0.8145 - val_loss: 0.7537 - val_acc: 0.5704\n",
      "Epoch 14/25\n",
      " - 35s - loss: 0.2883 - acc: 0.8293 - val_loss: 0.7746 - val_acc: 0.6370\n",
      "Epoch 15/25\n",
      " - 36s - loss: 0.2974 - acc: 0.8015 - val_loss: 0.8079 - val_acc: 0.5630\n",
      "Epoch 16/25\n",
      " - 37s - loss: 0.2773 - acc: 0.8256 - val_loss: 0.7957 - val_acc: 0.6222\n",
      "Epoch 17/25\n",
      " - 31s - loss: 0.2762 - acc: 0.8275 - val_loss: 0.8177 - val_acc: 0.5185\n",
      "Epoch 18/25\n",
      " - 29s - loss: 0.2865 - acc: 0.8126 - val_loss: 0.8279 - val_acc: 0.5407\n",
      "Epoch 19/25\n",
      " - 31s - loss: 0.2800 - acc: 0.8330 - val_loss: 0.7897 - val_acc: 0.6074\n",
      "Epoch 20/25\n",
      " - 31s - loss: 0.2754 - acc: 0.8330 - val_loss: 0.8115 - val_acc: 0.6000\n",
      "Epoch 21/25\n",
      " - 33s - loss: 0.2729 - acc: 0.8182 - val_loss: 0.8508 - val_acc: 0.5185\n",
      "Epoch 22/25\n",
      " - 31s - loss: 0.2805 - acc: 0.8071 - val_loss: 0.8305 - val_acc: 0.5259\n",
      "Epoch 23/25\n",
      " - 31s - loss: 0.2773 - acc: 0.8275 - val_loss: 0.8055 - val_acc: 0.6000\n",
      "Epoch 24/25\n",
      " - 32s - loss: 0.2678 - acc: 0.8423 - val_loss: 0.8170 - val_acc: 0.5185\n",
      "Epoch 25/25\n",
      " - 33s - loss: 0.2710 - acc: 0.8219 - val_loss: 0.8287 - val_acc: 0.5333\n"
     ]
    }
   ],
   "source": [
    "X_train, X_test, y_train, y_test = train_test_split(all_company['liststring'], all_company['increase'], test_size=0.20, random_state=42)\n",
    "X_train_pad, X_test_pad, max_length, vocab_size = tokenize(X_train, X_test, all_company)\n",
    "estimator = KerasClassifier(build_fn = embed_model, vocab_size = vocab_size, max_length = max_length, binary = True,\n",
    "                            epochs=25, batch_size=128, verbose=2)\n",
    "history = estimator.fit(X_train_pad, y_train, validation_data=(X_test_pad, y_test))"
   ]
  },
  {
   "cell_type": "code",
   "execution_count": 53,
   "metadata": {},
   "outputs": [],
   "source": [
    "plot_history(history, \"./img/acc_plot/model1_binary_1\")"
   ]
  },
  {
   "cell_type": "markdown",
   "metadata": {},
   "source": [
    "## Regression"
   ]
  },
  {
   "cell_type": "code",
   "execution_count": 54,
   "metadata": {},
   "outputs": [],
   "source": [
    "# #Train test split\n",
    "# #USE all_company['increase'] for Y if BINARY. \n",
    "# #USE all_company['delta'] for Y if REGRESSION.\n",
    "# X_train, X_test, y_train, y_test = train_test_split(all_company['liststring'], all_company['delta'], test_size=0.20, random_state=42)\n",
    "# X_train_pad, X_test_pad, max_length, vocab_size = tokenize(X_train, X_test, all_company)\n",
    "# estimator = KerasClassifier(build_fn = embed_model, vocab_size = vocab_size, max_length = 3000, binary = False,\n",
    "#                             epochs=50, batch_size=32, verbose=2)\n",
    "# history2 = estimator.fit(X_train_pad, y_train, validation_data=(X_test_pad, y_test))"
   ]
  },
  {
   "cell_type": "code",
   "execution_count": null,
   "metadata": {},
   "outputs": [],
   "source": []
  },
  {
   "cell_type": "code",
   "execution_count": null,
   "metadata": {},
   "outputs": [],
   "source": []
  },
  {
   "cell_type": "code",
   "execution_count": null,
   "metadata": {},
   "outputs": [],
   "source": []
  },
  {
   "cell_type": "code",
   "execution_count": null,
   "metadata": {},
   "outputs": [],
   "source": []
  },
  {
   "cell_type": "code",
   "execution_count": null,
   "metadata": {},
   "outputs": [],
   "source": []
  },
  {
   "cell_type": "code",
   "execution_count": null,
   "metadata": {},
   "outputs": [],
   "source": []
  },
  {
   "cell_type": "code",
   "execution_count": 47,
   "metadata": {},
   "outputs": [],
   "source": [
    "import sklearn.preprocessing as preprocessing \n",
    "scale = preprocessing.MinMaxScaler()\n",
    "Y_final = pd.DataFrame(scale.fit_transform(Y_final.values))\n",
    "Y_final.rename(columns = {0: \"Y_test\", 1: \"Y_pred\"}, inplace = True)"
   ]
  },
  {
   "cell_type": "code",
   "execution_count": 48,
   "metadata": {},
   "outputs": [
    {
     "data": {
      "text/plain": [
       "<matplotlib.axes._subplots.AxesSubplot at 0x134278fd0>"
      ]
     },
     "execution_count": 48,
     "metadata": {},
     "output_type": "execute_result"
    },
    {
     "data": {
      "image/png": "[encoded data removed]",
      "text/plain": [
       "<Figure size 432x288 with 1 Axes>"
      ]
     },
     "metadata": {},
     "output_type": "display_data"
    }
   ],
   "source": [
    "Y_final.plot(kind = 'line')"
   ]
  }
 ],
 "metadata": {
  "kernelspec": {
   "display_name": "Python 3",
   "language": "python",
   "name": "python3"
  },
  "language_info": {
   "codemirror_mode": {
    "name": "ipython",
    "version": 3
   },
   "file_extension": ".py",
   "mimetype": "text/x-python",
   "name": "python",
   "nbconvert_exporter": "python",
   "pygments_lexer": "ipython3",
   "version": "3.6.5"
  },
  "toc": {
   "base_numbering": 1,
   "nav_menu": {},
   "number_sections": true,
   "sideBar": true,
   "skip_h1_title": false,
   "title_cell": "Table of Contents",
   "title_sidebar": "Contents",
   "toc_cell": false,
   "toc_position": {},
   "toc_section_display": true,
   "toc_window_display": false
  }
 },
 "nbformat": 4,
 "nbformat_minor": 2
}
